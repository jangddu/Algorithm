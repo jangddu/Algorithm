{
  "nbformat": 4,
  "nbformat_minor": 0,
  "metadata": {
    "colab": {
      "provenance": []
    },
    "kernelspec": {
      "name": "python3",
      "display_name": "Python 3"
    },
    "language_info": {
      "name": "python"
    }
  },
  "cells": [
    {
      "cell_type": "markdown",
      "source": [
        "## Dequeue\n",
        "\n",
        "Double Ended Queue는 front, back에서 삽입, 삭제가 가능한 자료구조이다. 핵심이 되는 기능은 아래와 같다.  \n",
        "\n",
        "push_back(Data data): deque의 back에 data 삽입  \n",
        "pop_back(): deque의 back에 존재하는 data 삭제  \n",
        "push_front(Data data): deque의 front에 data 삽입  \n",
        "pop_front(): deque의 front에 존재하는 data 삭제  \n",
        "size(): deque에 존재하는 모든 데이터의 수를 구한다.  "
      ],
      "metadata": {
        "id": "pmhRkcSZ7vgq"
      }
    },
    {
      "cell_type": "code",
      "source": [
        "class Dequeue:\n",
        "  def __init__(self):\n",
        "    self.dequeue = []\n",
        "\n",
        "  def push_front(self, data): # deque의 front에 data 삽입\n",
        "    temp = [data]\n",
        "    self.dequeue = temp + self.dequeue\n",
        "    print(self.dequeue)\n",
        "\n",
        "  def push_back(self, data): # deque의 back에 data 삽입\n",
        "    self.dequeue.append(data)\n",
        "    print(self.dequeue)\n",
        "\n",
        "  def pop_front(self, data): # deque의 front에 존재하는 data 삭제\n",
        "    del self.dequeue[0]\n",
        "\n",
        "  def pop_back(self): # deque의 back에 존재하는 data 삭제\n",
        "    self.dequeue.pop()\n",
        "\n",
        "  def front(self):\n",
        "    print(self.dequeue[0])\n",
        "\n",
        "  def back(self):\n",
        "    print(self.dequeue[-1])\n",
        "\n",
        "\n",
        "## __main__ ##\n",
        "queue = Dequeue()\n",
        "queue.push_front(5)\n",
        "queue.push_back(10)\n",
        "queue.push_front(15)\n",
        "queue.push_back(20)\n",
        "queue.front()\n",
        "queue.pop_back()\n",
        "queue.push_back(25)\n",
        "queue.front()"
      ],
      "metadata": {
        "colab": {
          "base_uri": "https://localhost:8080/"
        },
        "id": "HJhFE8Xf7wID",
        "outputId": "ac409e28-522d-4227-ceb2-728e5114608b"
      },
      "execution_count": 21,
      "outputs": [
        {
          "output_type": "stream",
          "name": "stdout",
          "text": [
            "[5]\n",
            "[5, 10]\n",
            "[15, 5, 10]\n",
            "[15, 5, 10, 20]\n",
            "15\n",
            "[15, 5, 10, 25]\n",
            "15\n"
          ]
        }
      ]
    },
    {
      "cell_type": "markdown",
      "source": [
        "## 9012: 괄호\n",
        "\n",
        "문제  \n",
        "괄호 문자열(Parenthesis String, PS)은 두 개의 괄호 기호인 ‘(’ 와 ‘)’ 만으로 구성되어 있는 문자열이다. 그 중에서 괄호의 모양이 바르게 구성된 문자열을 올바른 괄호 문자열(Valid PS, VPS)이라고 부른다. 한 쌍의 괄호 기호로 된 “( )” 문자열은 기본 VPS 이라고 부른다. 만일 x 가 VPS 라면 이것을 하나의 괄호에 넣은 새로운 문자열 “(x)”도 VPS 가 된다. 그리고 두 VPS x 와 y를 접합(concatenation)시킨 새로운 문자열 xy도 VPS 가 된다. 예를 들어 “(())()”와 “((()))” 는 VPS 이지만 “(()(”, “(())()))” , 그리고 “(()” 는 모두 VPS 가 아닌 문자열이다.   \n",
        "\n",
        "여러분은 입력으로 주어진 괄호 문자열이 VPS 인지 아닌지를 판단해서 그 결과를 YES 와 NO 로 나타내어야 한다.   \n",
        "\n",
        "입력  \n",
        "입력 데이터는 표준 입력을 사용한다. 입력은 T개의 테스트 데이터로 주어진다. 입력의 첫 번째 줄에는 입력 데이터의 수를 나타내는 정수 T가 주어진다. 각 테스트 데이터의 첫째 줄에는 괄호 문자열이 한 줄에 주어진다. 하나의 괄호 문자열의 길이는 2 이상 50 이하이다.\n",
        "\n",
        "출력  \n",
        "출력은 표준 출력을 사용한다. 만일 입력 괄호 문자열이 올바른 괄호 문자열(VPS)이면 “YES”, 아니면 “NO”를 한 줄에 하나씩 차례대로 출력해야 한다."
      ],
      "metadata": {
        "id": "1KEcqNj4yZtH"
      }
    },
    {
      "cell_type": "code",
      "source": [
        "# 괄호문제는 스택으로 풀어야한다.\n",
        "\n",
        "class Stack:\n",
        "  def __init__(self):\n",
        "    self.stack = []\n",
        "\n",
        "  def push(self, data):# stack 뒤에 원소 삽입\n",
        "    self.stack.append(data)\n",
        "\n",
        "  def top(self):\n",
        "    print(self.stack[-1])\n",
        "\n",
        "  def pop(self): # stack 뒤 원소 삭제\n",
        "    self.stack.pop()\n",
        "\n",
        "\n",
        "## __main__ ##\n",
        "num_list = []\n",
        "\n",
        "num = int(input())\n",
        "for i in range(num):\n",
        "  a = input()\n",
        "  num_list.append(a)\n",
        "for _list in num_list:\n",
        "  vps = Stack()\n",
        "  check = 0\n",
        "  for i in _list:\n",
        "    if i == \"(\":\n",
        "      vps.push(i)\n",
        "      check += 1\n",
        "    elif i == \")\":\n",
        "      if vps.stack == []:\n",
        "        check = -1\n",
        "        break\n",
        "      else:\n",
        "        vps.pop()\n",
        "        check -= 1\n",
        "    else:\n",
        "      print(\"잘못입력되었습니다.\")\n",
        "  if check == 0:\n",
        "    print(\"YES\")\n",
        "  else:\n",
        "    print(\"NO\")"
      ],
      "metadata": {
        "colab": {
          "base_uri": "https://localhost:8080/"
        },
        "id": "hAxe-fv9yZ78",
        "outputId": "4b8ec146-03b0-4be8-d464-abd9ee33cab9"
      },
      "execution_count": 11,
      "outputs": [
        {
          "output_type": "stream",
          "name": "stdout",
          "text": [
            "6\n",
            "(())())\n",
            "(((()())()\n",
            "(()())((()))\n",
            "((()()(()))(((())))()\n",
            "()()()()(()()())()\n",
            "(()((())()(\n",
            "NO\n",
            "NO\n",
            "YES\n",
            "NO\n",
            "YES\n",
            "NO\n"
          ]
        }
      ]
    },
    {
      "cell_type": "markdown",
      "source": [
        "## 10773: 제로\n",
        "\n",
        "문제  \n",
        "나코더 기장 재민이는 동아리 회식을 준비하기 위해서 장부를 관리하는 중이다.\n",
        "\n",
        "재현이는 재민이를 도와서 돈을 관리하는 중인데, 애석하게도 항상 정신없는 재현이는 돈을 실수로 잘못 부르는 사고를 치기 일쑤였다.\n",
        "\n",
        "재현이는 잘못된 수를 부를 때마다 0을 외쳐서, 가장 최근에 재민이가 쓴 수를 지우게 시킨다.\n",
        "\n",
        "재민이는 이렇게 모든 수를 받아 적은 후 그 수의 합을 알고 싶어 한다. 재민이를 도와주자!\n",
        "\n",
        "입력  \n",
        "첫 번째 줄에 정수 K가 주어진다. (1 ≤ K ≤ 100,000)\n",
        "\n",
        "이후 K개의 줄에 정수가 1개씩 주어진다. 정수는 0에서 1,000,000 사이의 값을 가지며, 정수가 \"0\" 일 경우에는 가장 최근에 쓴 수를 지우고, 아닐 경우 해당 수를 쓴다.\n",
        "\n",
        "정수가 \"0\"일 경우에 지울 수 있는 수가 있음을 보장할 수 있다.\n",
        "\n",
        "출력  \n",
        "재민이가 최종적으로 적어 낸 수의 합을 출력한다. 최종적으로 적어낸 수의 합은 231-1보다 작거나 같은 정수이다."
      ],
      "metadata": {
        "id": "r5865cCtyaGw"
      }
    },
    {
      "cell_type": "code",
      "source": [
        "# 이 문제 역시 스택을 이용한다\n",
        "\n",
        "class Stack:\n",
        "  def __init__(self):\n",
        "    self.stack = []\n",
        "\n",
        "  def push(self, data):# stack 뒤에 원소 삽입\n",
        "    self.stack.append(data)\n",
        "\n",
        "  def top(self):\n",
        "    print(self.stack[-1])\n",
        "\n",
        "  def pop(self): # stack 뒤 원소 삭제\n",
        "    self.stack.pop()\n",
        "\n",
        "num = int(input())\n",
        "jeamin = Stack()\n",
        "for i in range(num):\n",
        "  a = int(input())\n",
        "  if a == 0:\n",
        "    jeamin.pop()\n",
        "  else:\n",
        "    jeamin.push(a)\n",
        "\n",
        "sum = 0\n",
        "for i in jeamin.stack:\n",
        "  sum += i\n",
        "\n",
        "print(sum)"
      ],
      "metadata": {
        "colab": {
          "base_uri": "https://localhost:8080/"
        },
        "id": "85-gny_CyaSd",
        "outputId": "20363f8c-345f-403a-95c6-82a9c013075f"
      },
      "execution_count": 12,
      "outputs": [
        {
          "output_type": "stream",
          "name": "stdout",
          "text": [
            "4\n",
            "4\n",
            "3\n",
            "0\n",
            "1\n",
            "5\n"
          ]
        }
      ]
    },
    {
      "cell_type": "markdown",
      "source": [
        "## 1966: 프린터 큐\n",
        "\n",
        "문제  \n",
        "여러분도 알다시피 여러분의 프린터 기기는 여러분이 인쇄하고자 하는 문서를 인쇄 명령을 받은 ‘순서대로’, 즉 먼저 요청된 것을 먼저 인쇄한다. 여러 개의 문서가 쌓인다면 Queue 자료구조에 쌓여서 FIFO - First In First Out - 에 따라 인쇄가 되게 된다. 하지만 상근이는 새로운 프린터기 내부 소프트웨어를 개발하였는데, 이 프린터기는 다음과 같은 조건에 따라 인쇄를 하게 된다.\n",
        "\n",
        "현재 Queue의 가장 앞에 있는 문서의 ‘중요도’를 확인한다.\n",
        "나머지 문서들 중 현재 문서보다 중요도가 높은 문서가 하나라도 있다면, 이 문서를 인쇄하지 않고 Queue의 가장 뒤에 재배치 한다. 그렇지 않다면 바로 인쇄를 한다.\n",
        "예를 들어 Queue에 4개의 문서(A B C D)가 있고, 중요도가 2 1 4 3 라면 C를 인쇄하고, 다음으로 D를 인쇄하고 A, B를 인쇄하게 된다.\n",
        "\n",
        "여러분이 할 일은, 현재 Queue에 있는 문서의 수와 중요도가 주어졌을 때, 어떤 한 문서가 몇 번째로 인쇄되는지 알아내는 것이다. 예를 들어 위의 예에서 C문서는 1번째로, A문서는 3번째로 인쇄되게 된다.\n",
        "\n",
        "입력  \n",
        "첫 줄에 테스트케이스의 수가 주어진다. 각 테스트케이스는 두 줄로 이루어져 있다.\n",
        "\n",
        "테스트케이스의 첫 번째 줄에는 문서의 개수 N(1 ≤ N ≤ 100)과, 몇 번째로 인쇄되었는지 궁금한 문서가 현재 Queue에서 몇 번째에 놓여 있는지를 나타내는 정수 M(0 ≤ M < N)이 주어진다. 이때 맨 왼쪽은 0번째라고 하자. 두 번째 줄에는 N개 문서의 중요도가 차례대로 주어진다. 중요도는 1 이상 9 이하의 정수이고, 중요도가 같은 문서가 여러 개 있을 수도 있다.\n",
        "\n",
        "출력  \n",
        "각 테스트 케이스에 대해 문서가 몇 번째로 인쇄되는지 출력한다."
      ],
      "metadata": {
        "id": "AWJdet4CyadN"
      }
    },
    {
      "cell_type": "code",
      "source": [
        "num = int(input())\n",
        "\n",
        "for i in range(num):\n",
        "  N, M = map(int, input().split()) # 6, 0\n",
        "  count = 0\n",
        "  priority = list(map(int, input().split())) # 1, 1, 9, 1, 1, 1\n",
        "  index = [i for i in range(N)] # N개 문서의 기존 순서 저장\n",
        "\n",
        "  while True:\n",
        "    if priority[0] == max(priority): # 현재 문서가 중요도가 제일 높다면\n",
        "      count += 1\n",
        "      if index[0] == M: # 궁금한 문서인지 확인\n",
        "        print(count)\n",
        "        break\n",
        "      else: # 궁금한 문서가 아니라면 Queue에서 탈출\n",
        "        del priority[0]\n",
        "        del index[0]\n",
        "    else: # 나머지 문서들 중 현재 문서보다 중요도가 높은 문서가 하나라도 있다면\n",
        "      priority.append(priority[0]) # 이 문서를 인쇄하지 않고 Queue의 가장 뒤에 재배치\n",
        "      del priority[0]\n",
        "      index.append(index[0])\n",
        "      del index[0]\n"
      ],
      "metadata": {
        "colab": {
          "base_uri": "https://localhost:8080/"
        },
        "id": "bZMP6f7Vyam8",
        "outputId": "7b575e8f-c54d-4887-e79f-7c4b7670bc50"
      },
      "execution_count": 18,
      "outputs": [
        {
          "output_type": "stream",
          "name": "stdout",
          "text": [
            "3\n",
            "1 0\n",
            "5\n",
            "1\n",
            "4 2\n",
            "1 2 3 4\n",
            "2\n",
            "6 0\n",
            "1 1 9 1 1 1\n",
            "5\n"
          ]
        }
      ]
    }
  ]
}