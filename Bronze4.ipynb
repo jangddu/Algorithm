{
  "nbformat": 4,
  "nbformat_minor": 0,
  "metadata": {
    "colab": {
      "provenance": []
    },
    "kernelspec": {
      "name": "python3",
      "display_name": "Python 3"
    },
    "language_info": {
      "name": "python"
    }
  },
  "cells": [
    {
      "cell_type": "markdown",
      "source": [
        "## 5575: 타임카드\n",
        "\n",
        "문제  \n",
        "JOI 상사는 직원의 근무시간을 타임 카드로 관리하고있다. 직원들은 전용 장비를 사용하여 타임 카드에 출근 시간을 기록한다. 근무를 마치고 퇴근할 때도 타임 카드에 퇴근 시간을 기록한다. 타임카드에서 사용하는 시간단위는 24 시간제를 사용한다.\n",
        "\n",
        "보안상의 이유로 직원들의 출근 시간은 7시 이후이다. 또한, 모든 직원은 23시 이전에 퇴근한다. 직원의 퇴근 시간은 항상 출근 시간보다 늦다.\n",
        "\n",
        "입력으로 JOI 상사의 3 명의 직원 A 씨, B 씨, C 씨의 출근 시간과 퇴근 시간이 주어 졌을 때 각 직원의 근무시간을 계산하는 프로그램을 작성하라.\n",
        "\n",
        "입력  \n",
        "입력은 3 행으로 구성된다.\n",
        "\n",
        "첫 번째 줄에는 A 씨의 출근 시간과 퇴근 시간,\n",
        "\n",
        "두 번째 줄에는 B 씨의 출근 시간과 퇴근 시간,\n",
        "\n",
        "세 번째 줄에는 C 씨의 출근 시간과 퇴근 시간이 각각 공백으로 구분되어 있다.\n",
        "\n",
        "시간은 각각 공백으로 구분된 3 개의 정수로 쓰여져있다.\n",
        "\n",
        "3 개의 정수 h(7 ≦ h ≦ 22), m(0 ≦ m ≦ 59), s(0 ≦ s ≦ 59)는 h시 m 분 s 초를 나타낸다.\n",
        "\n",
        "출력  \n",
        "첫 번째 줄에 A 씨의 근무 시간,\n",
        "\n",
        "두 번째 줄에 B 씨의 근무 시간,\n",
        "\n",
        "세 번째 줄에 C 씨의 근무 시간을 출력하라.\n",
        "\n",
        "근무 시간이 h 시간 m 분 s 초이면 h, m, s의 순으로 공백으로 분리하여 출력하라."
      ],
      "metadata": {
        "id": "GAVP2bwdq1xw"
      }
    },
    {
      "cell_type": "code",
      "execution_count": null,
      "metadata": {
        "colab": {
          "base_uri": "https://localhost:8080/"
        },
        "id": "otCcomx8qyuz",
        "outputId": "d3c3cbbe-580b-45d7-e770-0ec0b35d5e9e"
      },
      "outputs": [
        {
          "output_type": "stream",
          "name": "stdout",
          "text": [
            "9 0 0 18 0 0\n",
            "9 0 1 18 0 0\n",
            "12 14 52 12 15 30\n",
            "9 0 0\n",
            "8 59 59\n",
            "0 0 38\n"
          ]
        }
      ],
      "source": [
        "Ach, Acm, Acs, Ath, Atm, Ats = map(int, input().split())\n",
        "Bch, Bcm, Bcs, Bth, Btm, Bts = map(int, input().split())\n",
        "Cch, Ccm, Ccs, Cth, Ctm, Cts = map(int, input().split())\n",
        "\n",
        "Ah = Ath - Ach\n",
        "Ah = Ah * 60\n",
        "\n",
        "Am = Atm - Acm\n",
        "Am += Ah\n",
        "Am = Am * 60\n",
        "\n",
        "As = Ats - Acs\n",
        "As += Am\n",
        "\n",
        "Ah = As // 3600\n",
        "Am = (As - Ah * 3600) // 60\n",
        "As = As - Ah * 3600 - Am * 60\n",
        "\n",
        "\n",
        "Bh = Bth - Bch\n",
        "Bh = Bh * 60\n",
        "\n",
        "Bm = Btm - Bcm\n",
        "Bm += Bh\n",
        "Bm = Bm * 60\n",
        "\n",
        "Bs = Bts - Bcs\n",
        "Bs += Bm\n",
        "\n",
        "Bh = Bs // 3600\n",
        "Bm = (Bs - Bh * 3600) // 60\n",
        "Bs = Bs - Bh * 3600 - Bm * 60\n",
        "\n",
        "Ch = Cth - Cch\n",
        "Ch = Ch * 60\n",
        "\n",
        "Cm = Ctm - Ccm\n",
        "Cm += Ch\n",
        "Cm = Cm * 60\n",
        "\n",
        "Cs = Cts - Ccs\n",
        "Cs += Cm\n",
        "\n",
        "Ch = Cs // 3600\n",
        "Cm = (Cs - Ch * 3600) // 60\n",
        "Cs = Cs - Ch * 3600 - Cm * 60\n",
        "\n",
        "print(Ah, Am, As)\n",
        "print(Bh, Bm, Bs)\n",
        "print(Ch, Cm, Cs)"
      ]
    },
    {
      "cell_type": "markdown",
      "source": [
        "## 25304: 영수증\n",
        "\n",
        "문제  \n",
        "준원이는 저번 주에 살면서 처음으로 코스트코를 가 봤다. 정말 멋졌다. 그런데, 몇 개 담지도 않았는데 수상하게 높은 금액이 나오는 것이다! 준원이는 영수증을 보면서 정확하게 계산된 것이 맞는지 확인해보려 한다.\n",
        "\n",
        "영수증에 적힌,\n",
        "\n",
        "구매한 각 물건의 가격과 개수\n",
        "구매한 물건들의 총 금액\n",
        "을 보고, 구매한 물건의 가격과 개수로 계산한 총 금액이 영수증에 적힌 총 금액과 일치하는지 검사해보자.\n",
        "\n",
        "입력  \n",
        "첫째 줄에는 영수증에 적힌 총 금액\n",
        "$X$가 주어진다.\n",
        "\n",
        "둘째 줄에는 영수증에 적힌 구매한 물건의 종류의 수\n",
        "$N$이 주어진다.\n",
        "\n",
        "이후\n",
        "$N$개의 줄에는 각 물건의 가격\n",
        "$a$와 개수\n",
        "$b$가 공백을 사이에 두고 주어진다.\n",
        "\n",
        "출력  \n",
        "구매한 물건의 가격과 개수로 계산한 총 금액이 영수증에 적힌 총 금액과 일치하면 Yes를 출력한다. 일치하지 않는다면 No를 출력한다."
      ],
      "metadata": {
        "id": "UZD0kdV9q3VO"
      }
    },
    {
      "cell_type": "code",
      "source": [
        "price = int(input())\n",
        "num = int(input())\n",
        "\n",
        "pur = list()\n",
        "for i in range(num):\n",
        "  a, b = map(int, input().split())\n",
        "  pur.append([a, b])\n",
        "\n",
        "sum = 0\n",
        "for i in range(len(pur)):\n",
        "  sum += pur[i][0] * pur[i][1]\n",
        "\n",
        "if sum == price:\n",
        "  print(\"Yes\")\n",
        "else:\n",
        "  print(\"No\")"
      ],
      "metadata": {
        "colab": {
          "base_uri": "https://localhost:8080/"
        },
        "id": "ano3omQfq3im",
        "outputId": "b0778b0a-7b5b-4c98-ad44-3b5022922288"
      },
      "execution_count": null,
      "outputs": [
        {
          "output_type": "stream",
          "name": "stdout",
          "text": [
            "260000\n",
            "4\n",
            "20000 5\n",
            "30000 2\n",
            "10000 6\n",
            "5000 8\n",
            "Yes\n"
          ]
        }
      ]
    },
    {
      "cell_type": "markdown",
      "source": [
        "## 5532: 방학숙제\n",
        "\n",
        "문제  \n",
        "상근이는 초등학교에 다닐 때, 방학 숙제를 남들보다 먼저 미리 하고 남은 기간을 놀았다. 방학 숙제는 수학과 국어 문제 풀기이다.\n",
        "\n",
        "방학은 총 L일이다. 수학은 총 B페이지, 국어는 총 A페이지를 풀어야 한다. 상근이는 하루에 국어를 최대 C페이지, 수학을 최대 D페이지 풀 수 있다.\n",
        "\n",
        "상근이가 겨울 방학동안 숙제를 하지 않고 놀 수 있는 최대 날의 수를 구하는 프로그램을 작성하시오.\n",
        "\n",
        "입력  \n",
        "한 줄에 하나씩 총 다섯 줄에 걸쳐 L, A, B, C, D가 주어진다. (2 ≤ L ≤ 40, 1 ≤ A, B ≤ 1000, 1 ≤ C, D ≤ 100)\n",
        "\n",
        "항상 방학 숙제를 방학 기간내에 다 할 수 있는 경우만 입력으로 주어진다.\n",
        "\n",
        "출력  \n",
        "첫째 줄에 상근이가 놀 수 있는 날의 최댓값을 출력한다."
      ],
      "metadata": {
        "id": "fLcqOHlXq389"
      }
    },
    {
      "cell_type": "code",
      "source": [
        "L = int(input())\n",
        "A = int(input())\n",
        "B = int(input())\n",
        "C = int(input())\n",
        "D = int(input())\n",
        "\n",
        "# 간단하게 math.ceil(값) 활용하면 if문 필요없음\n",
        "if A%C == 0:\n",
        "  a = 0\n",
        "else:\n",
        "  a = 1\n",
        "if B%D == 0:\n",
        "  b = 0\n",
        "else:\n",
        "  b = 1\n",
        "\n",
        "A = A//C + a\n",
        "B = B//D + b\n",
        "\n",
        "H = max(A, B)\n",
        "print(L- H)"
      ],
      "metadata": {
        "colab": {
          "base_uri": "https://localhost:8080/"
        },
        "id": "aYVUmL9uq4I7",
        "outputId": "9cd4bda3-3a33-4b9f-d113-44b17e519a03"
      },
      "execution_count": null,
      "outputs": [
        {
          "output_type": "stream",
          "name": "stdout",
          "text": [
            "20\n",
            "25\n",
            "30\n",
            "6\n",
            "8\n",
            "15\n"
          ]
        }
      ]
    },
    {
      "cell_type": "markdown",
      "source": [],
      "metadata": {
        "id": "zaQrrpsrq4VG"
      }
    },
    {
      "cell_type": "code",
      "source": [
        "20\n",
        "25\n",
        "30\n",
        "6\n",
        "8"
      ],
      "metadata": {
        "colab": {
          "base_uri": "https://localhost:8080/"
        },
        "id": "eHGTNJ7Jq4hn",
        "outputId": "5a5887de-6e2d-4b39-9560-0d2e29fe90af"
      },
      "execution_count": null,
      "outputs": [
        {
          "output_type": "execute_result",
          "data": {
            "text/plain": [
              "2"
            ]
          },
          "metadata": {},
          "execution_count": 22
        }
      ]
    },
    {
      "cell_type": "markdown",
      "source": [],
      "metadata": {
        "id": "IDfIuoiFq4t7"
      }
    },
    {
      "cell_type": "code",
      "source": [],
      "metadata": {
        "id": "_9MFs0muq5Fl"
      },
      "execution_count": null,
      "outputs": []
    },
    {
      "cell_type": "markdown",
      "source": [],
      "metadata": {
        "id": "WVPO_bXiq5Um"
      }
    },
    {
      "cell_type": "code",
      "source": [],
      "metadata": {
        "id": "hzwfvtMbq5kO"
      },
      "execution_count": null,
      "outputs": []
    }
  ]
}