{
  "nbformat": 4,
  "nbformat_minor": 0,
  "metadata": {
    "colab": {
      "provenance": []
    },
    "kernelspec": {
      "name": "python3",
      "display_name": "Python 3"
    },
    "language_info": {
      "name": "python"
    }
  },
  "cells": [
    {
      "cell_type": "markdown",
      "source": [
        "## 5575: 타임카드\n",
        "- 오래걸림\n",
        "\n",
        "문제  \n",
        "JOI 상사는 직원의 근무시간을 타임 카드로 관리하고있다. 직원들은 전용 장비를 사용하여 타임 카드에 출근 시간을 기록한다. 근무를 마치고 퇴근할 때도 타임 카드에 퇴근 시간을 기록한다. 타임카드에서 사용하는 시간단위는 24 시간제를 사용한다.\n",
        "\n",
        "보안상의 이유로 직원들의 출근 시간은 7시 이후이다. 또한, 모든 직원은 23시 이전에 퇴근한다. 직원의 퇴근 시간은 항상 출근 시간보다 늦다.\n",
        "\n",
        "입력으로 JOI 상사의 3 명의 직원 A 씨, B 씨, C 씨의 출근 시간과 퇴근 시간이 주어 졌을 때 각 직원의 근무시간을 계산하는 프로그램을 작성하라.\n",
        "\n",
        "입력  \n",
        "입력은 3 행으로 구성된다.\n",
        "\n",
        "첫 번째 줄에는 A 씨의 출근 시간과 퇴근 시간,\n",
        "\n",
        "두 번째 줄에는 B 씨의 출근 시간과 퇴근 시간,\n",
        "\n",
        "세 번째 줄에는 C 씨의 출근 시간과 퇴근 시간이 각각 공백으로 구분되어 있다.\n",
        "\n",
        "시간은 각각 공백으로 구분된 3 개의 정수로 쓰여져있다.\n",
        "\n",
        "3 개의 정수 h(7 ≦ h ≦ 22), m(0 ≦ m ≦ 59), s(0 ≦ s ≦ 59)는 h시 m 분 s 초를 나타낸다.\n",
        "\n",
        "출력  \n",
        "첫 번째 줄에 A 씨의 근무 시간,\n",
        "\n",
        "두 번째 줄에 B 씨의 근무 시간,\n",
        "\n",
        "세 번째 줄에 C 씨의 근무 시간을 출력하라.\n",
        "\n",
        "근무 시간이 h 시간 m 분 s 초이면 h, m, s의 순으로 공백으로 분리하여 출력하라."
      ],
      "metadata": {
        "id": "GAVP2bwdq1xw"
      }
    },
    {
      "cell_type": "code",
      "execution_count": null,
      "metadata": {
        "colab": {
          "base_uri": "https://localhost:8080/"
        },
        "id": "otCcomx8qyuz",
        "outputId": "d3c3cbbe-580b-45d7-e770-0ec0b35d5e9e"
      },
      "outputs": [
        {
          "output_type": "stream",
          "name": "stdout",
          "text": [
            "9 0 0 18 0 0\n",
            "9 0 1 18 0 0\n",
            "12 14 52 12 15 30\n",
            "9 0 0\n",
            "8 59 59\n",
            "0 0 38\n"
          ]
        }
      ],
      "source": [
        "Ach, Acm, Acs, Ath, Atm, Ats = map(int, input().split())\n",
        "Bch, Bcm, Bcs, Bth, Btm, Bts = map(int, input().split())\n",
        "Cch, Ccm, Ccs, Cth, Ctm, Cts = map(int, input().split())\n",
        "\n",
        "Ah = Ath - Ach\n",
        "Ah = Ah * 60\n",
        "\n",
        "Am = Atm - Acm\n",
        "Am += Ah\n",
        "Am = Am * 60\n",
        "\n",
        "As = Ats - Acs\n",
        "As += Am\n",
        "\n",
        "Ah = As // 3600\n",
        "Am = (As - Ah * 3600) // 60\n",
        "As = As - Ah * 3600 - Am * 60\n",
        "\n",
        "\n",
        "Bh = Bth - Bch\n",
        "Bh = Bh * 60\n",
        "\n",
        "Bm = Btm - Bcm\n",
        "Bm += Bh\n",
        "Bm = Bm * 60\n",
        "\n",
        "Bs = Bts - Bcs\n",
        "Bs += Bm\n",
        "\n",
        "Bh = Bs // 3600\n",
        "Bm = (Bs - Bh * 3600) // 60\n",
        "Bs = Bs - Bh * 3600 - Bm * 60\n",
        "\n",
        "Ch = Cth - Cch\n",
        "Ch = Ch * 60\n",
        "\n",
        "Cm = Ctm - Ccm\n",
        "Cm += Ch\n",
        "Cm = Cm * 60\n",
        "\n",
        "Cs = Cts - Ccs\n",
        "Cs += Cm\n",
        "\n",
        "Ch = Cs // 3600\n",
        "Cm = (Cs - Ch * 3600) // 60\n",
        "Cs = Cs - Ch * 3600 - Cm * 60\n",
        "\n",
        "print(Ah, Am, As)\n",
        "print(Bh, Bm, Bs)\n",
        "print(Ch, Cm, Cs)"
      ]
    },
    {
      "cell_type": "markdown",
      "source": [
        "## 25304: 영수증\n",
        "\n",
        "문제  \n",
        "준원이는 저번 주에 살면서 처음으로 코스트코를 가 봤다. 정말 멋졌다. 그런데, 몇 개 담지도 않았는데 수상하게 높은 금액이 나오는 것이다! 준원이는 영수증을 보면서 정확하게 계산된 것이 맞는지 확인해보려 한다.\n",
        "\n",
        "영수증에 적힌,\n",
        "\n",
        "구매한 각 물건의 가격과 개수\n",
        "구매한 물건들의 총 금액\n",
        "을 보고, 구매한 물건의 가격과 개수로 계산한 총 금액이 영수증에 적힌 총 금액과 일치하는지 검사해보자.\n",
        "\n",
        "입력  \n",
        "첫째 줄에는 영수증에 적힌 총 금액\n",
        "$X$가 주어진다.\n",
        "\n",
        "둘째 줄에는 영수증에 적힌 구매한 물건의 종류의 수\n",
        "$N$이 주어진다.\n",
        "\n",
        "이후\n",
        "$N$개의 줄에는 각 물건의 가격\n",
        "$a$와 개수\n",
        "$b$가 공백을 사이에 두고 주어진다.\n",
        "\n",
        "출력  \n",
        "구매한 물건의 가격과 개수로 계산한 총 금액이 영수증에 적힌 총 금액과 일치하면 Yes를 출력한다. 일치하지 않는다면 No를 출력한다."
      ],
      "metadata": {
        "id": "UZD0kdV9q3VO"
      }
    },
    {
      "cell_type": "code",
      "source": [
        "price = int(input())\n",
        "num = int(input())\n",
        "\n",
        "pur = list()\n",
        "for i in range(num):\n",
        "  a, b = map(int, input().split())\n",
        "  pur.append([a, b])\n",
        "\n",
        "sum = 0\n",
        "for i in range(len(pur)):\n",
        "  sum += pur[i][0] * pur[i][1]\n",
        "\n",
        "if sum == price:\n",
        "  print(\"Yes\")\n",
        "else:\n",
        "  print(\"No\")"
      ],
      "metadata": {
        "colab": {
          "base_uri": "https://localhost:8080/"
        },
        "id": "ano3omQfq3im",
        "outputId": "b0778b0a-7b5b-4c98-ad44-3b5022922288"
      },
      "execution_count": null,
      "outputs": [
        {
          "output_type": "stream",
          "name": "stdout",
          "text": [
            "260000\n",
            "4\n",
            "20000 5\n",
            "30000 2\n",
            "10000 6\n",
            "5000 8\n",
            "Yes\n"
          ]
        }
      ]
    },
    {
      "cell_type": "markdown",
      "source": [
        "## 5532: 방학숙제\n",
        "\n",
        "문제  \n",
        "상근이는 초등학교에 다닐 때, 방학 숙제를 남들보다 먼저 미리 하고 남은 기간을 놀았다. 방학 숙제는 수학과 국어 문제 풀기이다.\n",
        "\n",
        "방학은 총 L일이다. 수학은 총 B페이지, 국어는 총 A페이지를 풀어야 한다. 상근이는 하루에 국어를 최대 C페이지, 수학을 최대 D페이지 풀 수 있다.\n",
        "\n",
        "상근이가 겨울 방학동안 숙제를 하지 않고 놀 수 있는 최대 날의 수를 구하는 프로그램을 작성하시오.\n",
        "\n",
        "입력  \n",
        "한 줄에 하나씩 총 다섯 줄에 걸쳐 L, A, B, C, D가 주어진다. (2 ≤ L ≤ 40, 1 ≤ A, B ≤ 1000, 1 ≤ C, D ≤ 100)\n",
        "\n",
        "항상 방학 숙제를 방학 기간내에 다 할 수 있는 경우만 입력으로 주어진다.\n",
        "\n",
        "출력  \n",
        "첫째 줄에 상근이가 놀 수 있는 날의 최댓값을 출력한다."
      ],
      "metadata": {
        "id": "fLcqOHlXq389"
      }
    },
    {
      "cell_type": "code",
      "source": [
        "L = int(input())\n",
        "A = int(input())\n",
        "B = int(input())\n",
        "C = int(input())\n",
        "D = int(input())\n",
        "\n",
        "# 간단하게 math.ceil(값) 활용하면 if문 필요없음\n",
        "if A%C == 0:\n",
        "  a = 0\n",
        "else:\n",
        "  a = 1\n",
        "if B%D == 0:\n",
        "  b = 0\n",
        "else:\n",
        "  b = 1\n",
        "\n",
        "A = A//C + a\n",
        "B = B//D + b\n",
        "\n",
        "H = max(A, B)\n",
        "print(L- H)"
      ],
      "metadata": {
        "colab": {
          "base_uri": "https://localhost:8080/"
        },
        "id": "aYVUmL9uq4I7",
        "outputId": "9cd4bda3-3a33-4b9f-d113-44b17e519a03"
      },
      "execution_count": null,
      "outputs": [
        {
          "output_type": "stream",
          "name": "stdout",
          "text": [
            "20\n",
            "25\n",
            "30\n",
            "6\n",
            "8\n",
            "15\n"
          ]
        }
      ]
    },
    {
      "cell_type": "markdown",
      "source": [
        "## 2845: 파티가 끝나고 난 후\n",
        "\n",
        "문제  \n",
        "파티가 끝나고 나면, 사람들은 누가 파티에 왔는지와 얼마나 많은 사람들이 왔는지를 궁금해한다. 보통 파티는 매우 크게 열리기 때문에, 정확하게 몇 명이 참가했는지 알 수가 없다.\n",
        "\n",
        "지난주 토요일에 상근이는 자신의 3학년 진학을 기념하면서 매우 성대한 파티를 열었다. 그리고, 상근이는 1m2당 몇 명의 사람이 있었는지 알고있다.\n",
        "\n",
        "상근이의 파티는 정말 엄청난 규모였기 때문에, 대부분의 신문에도 기사가 실렸다. 상근이는 서로 다른 5개의 신문을 보면서 그 기사에 적혀져있는 참가자의 수를 적었다.\n",
        "\n",
        "상근이는 자신이 알고있는 참가자의 수가 정확하다고 생각한다. 각 신문 기사에 실려있는 참가자의 수가 몇 명 만큼 잘못되어있는지 구하는 프로그램을 작성하시오.\n",
        "\n",
        "입력  \n",
        "첫째 줄에 1m2당 사람의 수 L (1 ≤ L ≤ 10)과 파티가 열렸던 곳의 넓이 P (1 ≤ P ≤ 1000)가 주어진다.\n",
        "\n",
        "둘째 줄에는 각 기사에 실려있는 참가자의 수가 주어진다. 106보다 작은 양의 정수 5개가 주어진다.\n",
        "\n",
        "출력  \n",
        "출력은 첫째 줄에 다섯 개의 숫자를 출력해야 한다. 이 숫자는 상근이가 계산한 참가자의 수와  각 기사에 적혀있는 참가자의 수의 차이이다."
      ],
      "metadata": {
        "id": "zaQrrpsrq4VG"
      }
    },
    {
      "cell_type": "code",
      "source": [
        "L, P = map(int, input().split())\n",
        "a, b, c, d, e = map(int, input().split())\n",
        "\n",
        "cor = L * P\n",
        "print(a-cor, b-cor, c-cor, d-cor, e-cor)"
      ],
      "metadata": {
        "colab": {
          "base_uri": "https://localhost:8080/"
        },
        "id": "eHGTNJ7Jq4hn",
        "outputId": "c40fa2b9-78ec-45a4-9ac8-84bcfeb1ede6"
      },
      "execution_count": 2,
      "outputs": [
        {
          "output_type": "stream",
          "name": "stdout",
          "text": [
            "5 20\n",
            "99 101 1000 0 97\n",
            "-1 1 900 -100 -3\n"
          ]
        }
      ]
    },
    {
      "cell_type": "markdown",
      "source": [
        "## 10039: 평균 점수\n",
        "\n",
        "문제  \n",
        "상현이가 가르치는 아이폰 앱 개발 수업의 수강생은 원섭, 세희, 상근, 숭, 강수이다.\n",
        "\n",
        "어제 이 수업의 기말고사가 있었고, 상현이는 지금 학생들의 기말고사 시험지를 채점하고 있다. 기말고사 점수가 40점 이상인 학생들은 그 점수 그대로 자신의 성적이 된다. 하지만, 40점 미만인 학생들은 보충학습을 듣는 조건을 수락하면 40점을 받게 된다. 보충학습은 거부할 수 없기 때문에, 40점 미만인 학생들은 항상 40점을 받게 된다.\n",
        "\n",
        "학생 5명의 점수가 주어졌을 때, 평균 점수를 구하는 프로그램을 작성하시오.\n",
        "\n",
        "입력  \n",
        "입력은 총 5줄로 이루어져 있고, 원섭이의 점수, 세희의 점수, 상근이의 점수, 숭이의 점수, 강수의 점수가 순서대로 주어진다.\n",
        "\n",
        "점수는 모두 0점 이상, 100점 이하인 5의 배수이다. 따라서, 평균 점수는 항상 정수이다.\n",
        "\n",
        "출력  \n",
        "첫째 줄에 학생 5명의 평균 점수를 출력한다."
      ],
      "metadata": {
        "id": "IDfIuoiFq4t7"
      }
    },
    {
      "cell_type": "code",
      "source": [
        "sum = 0\n",
        "for i in range(5):\n",
        "  a= int(input())\n",
        "  if a < 40:\n",
        "    a = 40\n",
        "  sum += a\n",
        "\n",
        "print(sum//5)"
      ],
      "metadata": {
        "id": "_9MFs0muq5Fl",
        "colab": {
          "base_uri": "https://localhost:8080/"
        },
        "outputId": "b7c35d4b-cf45-4635-a858-cb8dcb92b8fa"
      },
      "execution_count": 4,
      "outputs": [
        {
          "output_type": "stream",
          "name": "stdout",
          "text": [
            "10\n",
            "65\n",
            "100\n",
            "30\n",
            "95\n",
            "68\n"
          ]
        }
      ]
    },
    {
      "cell_type": "markdown",
      "source": [
        "## 11945: 뜨거운 붕어빵\n",
        "- 거꾸로 할 때 a[::-1]의 도움을 받음  \n",
        "\n",
        "문제  \n",
        "고려대학교에 입학한 새내기 호돌이는 안암역을 지나다가 한 붕어빵 장수를 만났어요.\n",
        "\n",
        "“안녕, 안녕, 안녕하십니까, 아저씨! 붕어빵 두 개 주세요.”\n",
        "\n",
        "“안녕을 세 번 외쳤으니 붕어빵 세 개!”\n",
        "\n",
        "붕어빵 두 개의 값을 내고 세 개를 받은 호돌이는 기분이 좋았어요. 호돌이가 붕어빵 하나를 꺼내어 한 입 물었는데…. 너무 뜨거워서 그만 붕어빵을 떨어뜨리고 말았어요ㅠㅠ\n",
        "\n",
        "\n",
        "\n",
        "붕어빵은 자유 낙하운동을 하면서 땅에 떨어졌는데 신기하게도 좌우가 뒤집힌 모양으로 착지했답니다. 호돌이가 붕어빵을 한 입 물기 전의 모양이 입력으로 주어지면, 땅에 떨어졌을 때에는 어떤 모양일지 출력하세요.\n",
        "\n",
        "입력  \n",
        "첫째 줄에는 두 개의 정수 N과 M(0≤N,M≤10)이 주어집니다. 둘째 줄부터 N개의 줄에 걸쳐 붕어빵의 모양이 주어집니다. 각 행에는 공백을 나타내는 ‘0‘ 또는 붕어빵을 나타내는 ‘1’이 총 M개 주어집니다.\n",
        "\n",
        "출력  \n",
        "입력으로 주어진 붕어빵이 좌우로 뒤집힌 모양을 출력하세요."
      ],
      "metadata": {
        "id": "WVPO_bXiq5Um"
      }
    },
    {
      "cell_type": "code",
      "source": [
        "N, M = map(int, input().split())\n",
        "\n",
        "fish = list()\n",
        "for i in range(N):\n",
        "  a = input()\n",
        "  a = a[::-1]\n",
        "  fish.append(a)\n",
        "\n",
        "for i in range(N):\n",
        "  print(fish[i])"
      ],
      "metadata": {
        "id": "hzwfvtMbq5kO",
        "colab": {
          "base_uri": "https://localhost:8080/"
        },
        "outputId": "2ea4bdce-429c-451c-843e-eaec35eb18f0"
      },
      "execution_count": 16,
      "outputs": [
        {
          "output_type": "stream",
          "name": "stdout",
          "text": [
            "5 7\n",
            "0010000\n",
            "0111010\n",
            "1111111\n",
            "0111010\n",
            "0010000\n",
            "0000100\n",
            "0101110\n",
            "1111111\n",
            "0101110\n",
            "0000100\n"
          ]
        }
      ]
    },
    {
      "cell_type": "markdown",
      "source": [
        "## 3046: R2\n",
        "\n",
        "문제\n",
        "두 숫자 R1과 R2가 있을 때, 두 수의 평균 S는 (R1+R2)/2와 같다. 상근이는 정인이 생일 선물로 두 숫자 R1과 R2를 주려고 한다. 생일 파티에서 상근이는 정인이에게 이 두 숫자를 말해주고, 정인이는 이 숫자를 받아 적는다. 그리고 나서 기쁜 마음으로 1년동안 이 숫자를 외우면서 산다.\n",
        "\n",
        "상근이는 R1과 R2를 엄청난 고민 끝에 정했다. 작년에는 R1과 R2를 까먹어서 아무 숫자나 정해서 주었기 때문에, 올해는 까먹지 않기 위해서 평균 S도 같이 기억하려고 한다.\n",
        "\n",
        "오늘은 정인이 생일이다. 5분 후에 상근이는 생일 선물로 두 숫자 R1과 R2를 말해주어야 하지만, 안타깝게도 R2를 까먹고 말았다. 하지만 R1과 S는 기억하고 있다!\n",
        "\n",
        "상근이를 도와 R2가 몇 인지 구하는 프로그램을 작성하시오.\n",
        "\n",
        "입력\n",
        "첫째 줄에 두 정수 R1과 S가 주어진다. 두 수는 -1000보다 크거나 같고, 1000보다 작거나 같다.\n",
        "\n",
        "출력\n",
        "첫째 줄에 R2를 출력한다."
      ],
      "metadata": {
        "id": "euuRtg-1UrZb"
      }
    },
    {
      "cell_type": "code",
      "source": [
        "R1, S = map(int, input().split())\n",
        "R2 = S * 2  - R1\n",
        "print(R2)"
      ],
      "metadata": {
        "colab": {
          "base_uri": "https://localhost:8080/"
        },
        "id": "n_uxRAFLRnw0",
        "outputId": "26e4f3ac-0a0e-4301-c9ae-ccda5af13c79"
      },
      "execution_count": 18,
      "outputs": [
        {
          "output_type": "stream",
          "name": "stdout",
          "text": [
            "4 3\n",
            "2\n"
          ]
        }
      ]
    },
    {
      "cell_type": "markdown",
      "source": [
        "## 1547: 공\n",
        "\n",
        "문제  \n",
        "세준이는 컵 3개를 탁자 위에 일렬로 엎어놓았다. 컵의 번호는 맨 왼쪽 컵부터 순서대로 1번, 2번 3번이고, 세준이는 이 컵을 이용해서 게임을 하려고 한다.\n",
        "\n",
        "먼저 1번 컵의 아래에 공을 하나 넣는다. 세준이는 두 컵을 고른 다음, 그 위치를 맞바꾸려고 한다. 예를 들어, 고른 컵이 1번과 2번이라면, 1번 컵이 있던 위치에 2번 컵을 이동시키고, 동시에 2번 컵이 있던 위치에 1번 컵을 이동시켜야 한다. 이때 공은 움직이지 않기 때문에, 공의 위치는 맨 처음 1번 컵이 있던 위치와 같다.\n",
        "\n",
        "세준이는 컵의 위치를 총 M번 바꿀 것이며, 컵의 위치를 바꾼 방법이 입력으로 주어진다. 위치를 M번 바꾼 이후에 공이 들어있는 컵의 번호를 구하는 프로그램을 작성하시오.\n",
        "\n",
        "입력  \n",
        "첫째 줄에 컵의 위치를 바꾼 횟수 M이 주어지며, M은 50보다 작거나 같은 자연수이다. 둘째 줄부터 M개의 줄에는 컵의 위치를 바꾼 방법 X와 Y가 주어지며, X번 컵과 Y번 컵의 위치를 서로 바꾸는 것을 의미한다. X와 Y의 값은 3보다 작거나 같고, X와 Y가 같을 수도 있다.\n",
        "\n",
        "컵을 이동시킨 후에 공이 컵 바깥에 있는 경우는 없다.\n",
        "\n",
        "출력  \n",
        "첫째 줄에 공이 들어있는 컵의 번호를 출력한다. 공이 사라져서 컵 밑에 없는 경우에는 -1을 출력한다."
      ],
      "metadata": {
        "id": "-TbZV7iLUsXx"
      }
    },
    {
      "cell_type": "code",
      "source": [
        "N = int(input())\n",
        "\n",
        "cup = [1,2,3]\n",
        "for i in range(N):\n",
        "  a, b = map(int, input().split())\n",
        "  if cup[0] == a:\n",
        "    if cup[1] == b:\n",
        "      cup[0] = b\n",
        "      cup[1] = a\n",
        "    elif cup[2] == b:\n",
        "      cup[0] = b\n",
        "      cup[2] = a\n",
        "  elif cup[1] == a:\n",
        "    if cup[0] == b:\n",
        "      cup[1] = b\n",
        "      cup[0] = a\n",
        "    elif cup[2] == b:\n",
        "      cup[1] = b\n",
        "      cup[2] = a\n",
        "  elif cup[2] == a:\n",
        "    if cup[0] == b:\n",
        "      cup[2] = b\n",
        "      cup[0] = a\n",
        "    elif cup[1] == b:\n",
        "      cup[2] = b\n",
        "      cup[1] = a\n",
        "\n",
        "print(cup[0])"
      ],
      "metadata": {
        "colab": {
          "base_uri": "https://localhost:8080/"
        },
        "id": "EMK9sZFsR_X6",
        "outputId": "231d6883-40e8-47a9-f598-fae1c9ff53c1"
      },
      "execution_count": 19,
      "outputs": [
        {
          "output_type": "stream",
          "name": "stdout",
          "text": [
            "5\n",
            "2 3\n",
            "1 3\n",
            "2 3\n",
            "2 1\n",
            "3 1\n",
            "[3, 2, 1]\n"
          ]
        }
      ]
    },
    {
      "cell_type": "markdown",
      "source": [],
      "metadata": {
        "id": "CGTctcI7UtPF"
      }
    },
    {
      "cell_type": "code",
      "source": [],
      "metadata": {
        "id": "P19wkyvtUtaA"
      },
      "execution_count": null,
      "outputs": []
    },
    {
      "cell_type": "markdown",
      "source": [],
      "metadata": {
        "id": "eSMBcWJ2UtlQ"
      }
    },
    {
      "cell_type": "code",
      "source": [],
      "metadata": {
        "id": "Re3NqWpPUtvE"
      },
      "execution_count": null,
      "outputs": []
    },
    {
      "cell_type": "markdown",
      "source": [],
      "metadata": {
        "id": "4R7d45ykUt5H"
      }
    },
    {
      "cell_type": "code",
      "source": [],
      "metadata": {
        "id": "eDEYhJ7YUuCt"
      },
      "execution_count": null,
      "outputs": []
    },
    {
      "cell_type": "markdown",
      "source": [],
      "metadata": {
        "id": "t9byHZPTUuOO"
      }
    },
    {
      "cell_type": "code",
      "source": [],
      "metadata": {
        "id": "4B3Pzzu6UuXt"
      },
      "execution_count": null,
      "outputs": []
    },
    {
      "cell_type": "markdown",
      "source": [],
      "metadata": {
        "id": "nyf5-oNlUulf"
      }
    },
    {
      "cell_type": "code",
      "source": [],
      "metadata": {
        "id": "xGczwQknUuux"
      },
      "execution_count": null,
      "outputs": []
    }
  ]
}