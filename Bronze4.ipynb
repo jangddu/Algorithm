{
  "nbformat": 4,
  "nbformat_minor": 0,
  "metadata": {
    "colab": {
      "provenance": []
    },
    "kernelspec": {
      "name": "python3",
      "display_name": "Python 3"
    },
    "language_info": {
      "name": "python"
    }
  },
  "cells": [
    {
      "cell_type": "markdown",
      "source": [
        "## 5575: 타임카드\n",
        "- 오래걸림\n",
        "\n",
        "문제  \n",
        "JOI 상사는 직원의 근무시간을 타임 카드로 관리하고있다. 직원들은 전용 장비를 사용하여 타임 카드에 출근 시간을 기록한다. 근무를 마치고 퇴근할 때도 타임 카드에 퇴근 시간을 기록한다. 타임카드에서 사용하는 시간단위는 24 시간제를 사용한다.\n",
        "\n",
        "보안상의 이유로 직원들의 출근 시간은 7시 이후이다. 또한, 모든 직원은 23시 이전에 퇴근한다. 직원의 퇴근 시간은 항상 출근 시간보다 늦다.\n",
        "\n",
        "입력으로 JOI 상사의 3 명의 직원 A 씨, B 씨, C 씨의 출근 시간과 퇴근 시간이 주어 졌을 때 각 직원의 근무시간을 계산하는 프로그램을 작성하라.\n",
        "\n",
        "입력  \n",
        "입력은 3 행으로 구성된다.\n",
        "\n",
        "첫 번째 줄에는 A 씨의 출근 시간과 퇴근 시간,\n",
        "\n",
        "두 번째 줄에는 B 씨의 출근 시간과 퇴근 시간,\n",
        "\n",
        "세 번째 줄에는 C 씨의 출근 시간과 퇴근 시간이 각각 공백으로 구분되어 있다.\n",
        "\n",
        "시간은 각각 공백으로 구분된 3 개의 정수로 쓰여져있다.\n",
        "\n",
        "3 개의 정수 h(7 ≦ h ≦ 22), m(0 ≦ m ≦ 59), s(0 ≦ s ≦ 59)는 h시 m 분 s 초를 나타낸다.\n",
        "\n",
        "출력  \n",
        "첫 번째 줄에 A 씨의 근무 시간,\n",
        "\n",
        "두 번째 줄에 B 씨의 근무 시간,\n",
        "\n",
        "세 번째 줄에 C 씨의 근무 시간을 출력하라.\n",
        "\n",
        "근무 시간이 h 시간 m 분 s 초이면 h, m, s의 순으로 공백으로 분리하여 출력하라."
      ],
      "metadata": {
        "id": "GAVP2bwdq1xw"
      }
    },
    {
      "cell_type": "code",
      "execution_count": null,
      "metadata": {
        "colab": {
          "base_uri": "https://localhost:8080/"
        },
        "id": "otCcomx8qyuz",
        "outputId": "d3c3cbbe-580b-45d7-e770-0ec0b35d5e9e"
      },
      "outputs": [
        {
          "output_type": "stream",
          "name": "stdout",
          "text": [
            "9 0 0 18 0 0\n",
            "9 0 1 18 0 0\n",
            "12 14 52 12 15 30\n",
            "9 0 0\n",
            "8 59 59\n",
            "0 0 38\n"
          ]
        }
      ],
      "source": [
        "Ach, Acm, Acs, Ath, Atm, Ats = map(int, input().split())\n",
        "Bch, Bcm, Bcs, Bth, Btm, Bts = map(int, input().split())\n",
        "Cch, Ccm, Ccs, Cth, Ctm, Cts = map(int, input().split())\n",
        "\n",
        "Ah = Ath - Ach\n",
        "Ah = Ah * 60\n",
        "\n",
        "Am = Atm - Acm\n",
        "Am += Ah\n",
        "Am = Am * 60\n",
        "\n",
        "As = Ats - Acs\n",
        "As += Am\n",
        "\n",
        "Ah = As // 3600\n",
        "Am = (As - Ah * 3600) // 60\n",
        "As = As - Ah * 3600 - Am * 60\n",
        "\n",
        "\n",
        "Bh = Bth - Bch\n",
        "Bh = Bh * 60\n",
        "\n",
        "Bm = Btm - Bcm\n",
        "Bm += Bh\n",
        "Bm = Bm * 60\n",
        "\n",
        "Bs = Bts - Bcs\n",
        "Bs += Bm\n",
        "\n",
        "Bh = Bs // 3600\n",
        "Bm = (Bs - Bh * 3600) // 60\n",
        "Bs = Bs - Bh * 3600 - Bm * 60\n",
        "\n",
        "Ch = Cth - Cch\n",
        "Ch = Ch * 60\n",
        "\n",
        "Cm = Ctm - Ccm\n",
        "Cm += Ch\n",
        "Cm = Cm * 60\n",
        "\n",
        "Cs = Cts - Ccs\n",
        "Cs += Cm\n",
        "\n",
        "Ch = Cs // 3600\n",
        "Cm = (Cs - Ch * 3600) // 60\n",
        "Cs = Cs - Ch * 3600 - Cm * 60\n",
        "\n",
        "print(Ah, Am, As)\n",
        "print(Bh, Bm, Bs)\n",
        "print(Ch, Cm, Cs)"
      ]
    },
    {
      "cell_type": "markdown",
      "source": [
        "## 25304: 영수증\n",
        "\n",
        "문제  \n",
        "준원이는 저번 주에 살면서 처음으로 코스트코를 가 봤다. 정말 멋졌다. 그런데, 몇 개 담지도 않았는데 수상하게 높은 금액이 나오는 것이다! 준원이는 영수증을 보면서 정확하게 계산된 것이 맞는지 확인해보려 한다.\n",
        "\n",
        "영수증에 적힌,\n",
        "\n",
        "구매한 각 물건의 가격과 개수\n",
        "구매한 물건들의 총 금액\n",
        "을 보고, 구매한 물건의 가격과 개수로 계산한 총 금액이 영수증에 적힌 총 금액과 일치하는지 검사해보자.\n",
        "\n",
        "입력  \n",
        "첫째 줄에는 영수증에 적힌 총 금액\n",
        "$X$가 주어진다.\n",
        "\n",
        "둘째 줄에는 영수증에 적힌 구매한 물건의 종류의 수\n",
        "$N$이 주어진다.\n",
        "\n",
        "이후\n",
        "$N$개의 줄에는 각 물건의 가격\n",
        "$a$와 개수\n",
        "$b$가 공백을 사이에 두고 주어진다.\n",
        "\n",
        "출력  \n",
        "구매한 물건의 가격과 개수로 계산한 총 금액이 영수증에 적힌 총 금액과 일치하면 Yes를 출력한다. 일치하지 않는다면 No를 출력한다."
      ],
      "metadata": {
        "id": "UZD0kdV9q3VO"
      }
    },
    {
      "cell_type": "code",
      "source": [
        "price = int(input())\n",
        "num = int(input())\n",
        "\n",
        "pur = list()\n",
        "for i in range(num):\n",
        "  a, b = map(int, input().split())\n",
        "  pur.append([a, b])\n",
        "\n",
        "sum = 0\n",
        "for i in range(len(pur)):\n",
        "  sum += pur[i][0] * pur[i][1]\n",
        "\n",
        "if sum == price:\n",
        "  print(\"Yes\")\n",
        "else:\n",
        "  print(\"No\")"
      ],
      "metadata": {
        "colab": {
          "base_uri": "https://localhost:8080/"
        },
        "id": "ano3omQfq3im",
        "outputId": "b0778b0a-7b5b-4c98-ad44-3b5022922288"
      },
      "execution_count": null,
      "outputs": [
        {
          "output_type": "stream",
          "name": "stdout",
          "text": [
            "260000\n",
            "4\n",
            "20000 5\n",
            "30000 2\n",
            "10000 6\n",
            "5000 8\n",
            "Yes\n"
          ]
        }
      ]
    },
    {
      "cell_type": "markdown",
      "source": [
        "## 5532: 방학숙제\n",
        "\n",
        "문제  \n",
        "상근이는 초등학교에 다닐 때, 방학 숙제를 남들보다 먼저 미리 하고 남은 기간을 놀았다. 방학 숙제는 수학과 국어 문제 풀기이다.\n",
        "\n",
        "방학은 총 L일이다. 수학은 총 B페이지, 국어는 총 A페이지를 풀어야 한다. 상근이는 하루에 국어를 최대 C페이지, 수학을 최대 D페이지 풀 수 있다.\n",
        "\n",
        "상근이가 겨울 방학동안 숙제를 하지 않고 놀 수 있는 최대 날의 수를 구하는 프로그램을 작성하시오.\n",
        "\n",
        "입력  \n",
        "한 줄에 하나씩 총 다섯 줄에 걸쳐 L, A, B, C, D가 주어진다. (2 ≤ L ≤ 40, 1 ≤ A, B ≤ 1000, 1 ≤ C, D ≤ 100)\n",
        "\n",
        "항상 방학 숙제를 방학 기간내에 다 할 수 있는 경우만 입력으로 주어진다.\n",
        "\n",
        "출력  \n",
        "첫째 줄에 상근이가 놀 수 있는 날의 최댓값을 출력한다."
      ],
      "metadata": {
        "id": "fLcqOHlXq389"
      }
    },
    {
      "cell_type": "code",
      "source": [
        "L = int(input())\n",
        "A = int(input())\n",
        "B = int(input())\n",
        "C = int(input())\n",
        "D = int(input())\n",
        "\n",
        "# 간단하게 math.ceil(값) 활용하면 if문 필요없음\n",
        "if A%C == 0:\n",
        "  a = 0\n",
        "else:\n",
        "  a = 1\n",
        "if B%D == 0:\n",
        "  b = 0\n",
        "else:\n",
        "  b = 1\n",
        "\n",
        "A = A//C + a\n",
        "B = B//D + b\n",
        "\n",
        "H = max(A, B)\n",
        "print(L- H)"
      ],
      "metadata": {
        "colab": {
          "base_uri": "https://localhost:8080/"
        },
        "id": "aYVUmL9uq4I7",
        "outputId": "9cd4bda3-3a33-4b9f-d113-44b17e519a03"
      },
      "execution_count": null,
      "outputs": [
        {
          "output_type": "stream",
          "name": "stdout",
          "text": [
            "20\n",
            "25\n",
            "30\n",
            "6\n",
            "8\n",
            "15\n"
          ]
        }
      ]
    },
    {
      "cell_type": "markdown",
      "source": [
        "## 2845: 파티가 끝나고 난 후\n",
        "\n",
        "문제  \n",
        "파티가 끝나고 나면, 사람들은 누가 파티에 왔는지와 얼마나 많은 사람들이 왔는지를 궁금해한다. 보통 파티는 매우 크게 열리기 때문에, 정확하게 몇 명이 참가했는지 알 수가 없다.\n",
        "\n",
        "지난주 토요일에 상근이는 자신의 3학년 진학을 기념하면서 매우 성대한 파티를 열었다. 그리고, 상근이는 1m2당 몇 명의 사람이 있었는지 알고있다.\n",
        "\n",
        "상근이의 파티는 정말 엄청난 규모였기 때문에, 대부분의 신문에도 기사가 실렸다. 상근이는 서로 다른 5개의 신문을 보면서 그 기사에 적혀져있는 참가자의 수를 적었다.\n",
        "\n",
        "상근이는 자신이 알고있는 참가자의 수가 정확하다고 생각한다. 각 신문 기사에 실려있는 참가자의 수가 몇 명 만큼 잘못되어있는지 구하는 프로그램을 작성하시오.\n",
        "\n",
        "입력  \n",
        "첫째 줄에 1m2당 사람의 수 L (1 ≤ L ≤ 10)과 파티가 열렸던 곳의 넓이 P (1 ≤ P ≤ 1000)가 주어진다.\n",
        "\n",
        "둘째 줄에는 각 기사에 실려있는 참가자의 수가 주어진다. 106보다 작은 양의 정수 5개가 주어진다.\n",
        "\n",
        "출력  \n",
        "출력은 첫째 줄에 다섯 개의 숫자를 출력해야 한다. 이 숫자는 상근이가 계산한 참가자의 수와  각 기사에 적혀있는 참가자의 수의 차이이다."
      ],
      "metadata": {
        "id": "zaQrrpsrq4VG"
      }
    },
    {
      "cell_type": "code",
      "source": [
        "L, P = map(int, input().split())\n",
        "a, b, c, d, e = map(int, input().split())\n",
        "\n",
        "cor = L * P\n",
        "print(a-cor, b-cor, c-cor, d-cor, e-cor)"
      ],
      "metadata": {
        "colab": {
          "base_uri": "https://localhost:8080/"
        },
        "id": "eHGTNJ7Jq4hn",
        "outputId": "c40fa2b9-78ec-45a4-9ac8-84bcfeb1ede6"
      },
      "execution_count": null,
      "outputs": [
        {
          "output_type": "stream",
          "name": "stdout",
          "text": [
            "5 20\n",
            "99 101 1000 0 97\n",
            "-1 1 900 -100 -3\n"
          ]
        }
      ]
    },
    {
      "cell_type": "markdown",
      "source": [
        "## 10039: 평균 점수\n",
        "\n",
        "문제  \n",
        "상현이가 가르치는 아이폰 앱 개발 수업의 수강생은 원섭, 세희, 상근, 숭, 강수이다.\n",
        "\n",
        "어제 이 수업의 기말고사가 있었고, 상현이는 지금 학생들의 기말고사 시험지를 채점하고 있다. 기말고사 점수가 40점 이상인 학생들은 그 점수 그대로 자신의 성적이 된다. 하지만, 40점 미만인 학생들은 보충학습을 듣는 조건을 수락하면 40점을 받게 된다. 보충학습은 거부할 수 없기 때문에, 40점 미만인 학생들은 항상 40점을 받게 된다.\n",
        "\n",
        "학생 5명의 점수가 주어졌을 때, 평균 점수를 구하는 프로그램을 작성하시오.\n",
        "\n",
        "입력  \n",
        "입력은 총 5줄로 이루어져 있고, 원섭이의 점수, 세희의 점수, 상근이의 점수, 숭이의 점수, 강수의 점수가 순서대로 주어진다.\n",
        "\n",
        "점수는 모두 0점 이상, 100점 이하인 5의 배수이다. 따라서, 평균 점수는 항상 정수이다.\n",
        "\n",
        "출력  \n",
        "첫째 줄에 학생 5명의 평균 점수를 출력한다."
      ],
      "metadata": {
        "id": "IDfIuoiFq4t7"
      }
    },
    {
      "cell_type": "code",
      "source": [
        "sum = 0\n",
        "for i in range(5):\n",
        "  a= int(input())\n",
        "  if a < 40:\n",
        "    a = 40\n",
        "  sum += a\n",
        "\n",
        "print(sum//5)"
      ],
      "metadata": {
        "id": "_9MFs0muq5Fl",
        "colab": {
          "base_uri": "https://localhost:8080/"
        },
        "outputId": "b7c35d4b-cf45-4635-a858-cb8dcb92b8fa"
      },
      "execution_count": null,
      "outputs": [
        {
          "output_type": "stream",
          "name": "stdout",
          "text": [
            "10\n",
            "65\n",
            "100\n",
            "30\n",
            "95\n",
            "68\n"
          ]
        }
      ]
    },
    {
      "cell_type": "markdown",
      "source": [
        "## 11945: 뜨거운 붕어빵\n",
        "- 거꾸로 할 때 a[::-1]의 도움을 받음  \n",
        "\n",
        "문제  \n",
        "고려대학교에 입학한 새내기 호돌이는 안암역을 지나다가 한 붕어빵 장수를 만났어요.\n",
        "\n",
        "“안녕, 안녕, 안녕하십니까, 아저씨! 붕어빵 두 개 주세요.”\n",
        "\n",
        "“안녕을 세 번 외쳤으니 붕어빵 세 개!”\n",
        "\n",
        "붕어빵 두 개의 값을 내고 세 개를 받은 호돌이는 기분이 좋았어요. 호돌이가 붕어빵 하나를 꺼내어 한 입 물었는데…. 너무 뜨거워서 그만 붕어빵을 떨어뜨리고 말았어요ㅠㅠ\n",
        "\n",
        "\n",
        "\n",
        "붕어빵은 자유 낙하운동을 하면서 땅에 떨어졌는데 신기하게도 좌우가 뒤집힌 모양으로 착지했답니다. 호돌이가 붕어빵을 한 입 물기 전의 모양이 입력으로 주어지면, 땅에 떨어졌을 때에는 어떤 모양일지 출력하세요.\n",
        "\n",
        "입력  \n",
        "첫째 줄에는 두 개의 정수 N과 M(0≤N,M≤10)이 주어집니다. 둘째 줄부터 N개의 줄에 걸쳐 붕어빵의 모양이 주어집니다. 각 행에는 공백을 나타내는 ‘0‘ 또는 붕어빵을 나타내는 ‘1’이 총 M개 주어집니다.\n",
        "\n",
        "출력  \n",
        "입력으로 주어진 붕어빵이 좌우로 뒤집힌 모양을 출력하세요."
      ],
      "metadata": {
        "id": "WVPO_bXiq5Um"
      }
    },
    {
      "cell_type": "code",
      "source": [
        "N, M = map(int, input().split())\n",
        "\n",
        "fish = list()\n",
        "for i in range(N):\n",
        "  a = input()\n",
        "  a = a[::-1]\n",
        "  fish.append(a)\n",
        "\n",
        "for i in range(N):\n",
        "  print(fish[i])"
      ],
      "metadata": {
        "id": "hzwfvtMbq5kO",
        "colab": {
          "base_uri": "https://localhost:8080/"
        },
        "outputId": "2ea4bdce-429c-451c-843e-eaec35eb18f0"
      },
      "execution_count": null,
      "outputs": [
        {
          "output_type": "stream",
          "name": "stdout",
          "text": [
            "5 7\n",
            "0010000\n",
            "0111010\n",
            "1111111\n",
            "0111010\n",
            "0010000\n",
            "0000100\n",
            "0101110\n",
            "1111111\n",
            "0101110\n",
            "0000100\n"
          ]
        }
      ]
    },
    {
      "cell_type": "markdown",
      "source": [
        "## 3046: R2\n",
        "\n",
        "문제\n",
        "두 숫자 R1과 R2가 있을 때, 두 수의 평균 S는 (R1+R2)/2와 같다. 상근이는 정인이 생일 선물로 두 숫자 R1과 R2를 주려고 한다. 생일 파티에서 상근이는 정인이에게 이 두 숫자를 말해주고, 정인이는 이 숫자를 받아 적는다. 그리고 나서 기쁜 마음으로 1년동안 이 숫자를 외우면서 산다.\n",
        "\n",
        "상근이는 R1과 R2를 엄청난 고민 끝에 정했다. 작년에는 R1과 R2를 까먹어서 아무 숫자나 정해서 주었기 때문에, 올해는 까먹지 않기 위해서 평균 S도 같이 기억하려고 한다.\n",
        "\n",
        "오늘은 정인이 생일이다. 5분 후에 상근이는 생일 선물로 두 숫자 R1과 R2를 말해주어야 하지만, 안타깝게도 R2를 까먹고 말았다. 하지만 R1과 S는 기억하고 있다!\n",
        "\n",
        "상근이를 도와 R2가 몇 인지 구하는 프로그램을 작성하시오.\n",
        "\n",
        "입력\n",
        "첫째 줄에 두 정수 R1과 S가 주어진다. 두 수는 -1000보다 크거나 같고, 1000보다 작거나 같다.\n",
        "\n",
        "출력\n",
        "첫째 줄에 R2를 출력한다."
      ],
      "metadata": {
        "id": "euuRtg-1UrZb"
      }
    },
    {
      "cell_type": "code",
      "source": [
        "R1, S = map(int, input().split())\n",
        "R2 = S * 2  - R1\n",
        "print(R2)"
      ],
      "metadata": {
        "colab": {
          "base_uri": "https://localhost:8080/"
        },
        "id": "n_uxRAFLRnw0",
        "outputId": "26e4f3ac-0a0e-4301-c9ae-ccda5af13c79"
      },
      "execution_count": null,
      "outputs": [
        {
          "output_type": "stream",
          "name": "stdout",
          "text": [
            "4 3\n",
            "2\n"
          ]
        }
      ]
    },
    {
      "cell_type": "markdown",
      "source": [
        "## 1547: 공\n",
        "\n",
        "문제  \n",
        "세준이는 컵 3개를 탁자 위에 일렬로 엎어놓았다. 컵의 번호는 맨 왼쪽 컵부터 순서대로 1번, 2번 3번이고, 세준이는 이 컵을 이용해서 게임을 하려고 한다.\n",
        "\n",
        "먼저 1번 컵의 아래에 공을 하나 넣는다. 세준이는 두 컵을 고른 다음, 그 위치를 맞바꾸려고 한다. 예를 들어, 고른 컵이 1번과 2번이라면, 1번 컵이 있던 위치에 2번 컵을 이동시키고, 동시에 2번 컵이 있던 위치에 1번 컵을 이동시켜야 한다. 이때 공은 움직이지 않기 때문에, 공의 위치는 맨 처음 1번 컵이 있던 위치와 같다.\n",
        "\n",
        "세준이는 컵의 위치를 총 M번 바꿀 것이며, 컵의 위치를 바꾼 방법이 입력으로 주어진다. 위치를 M번 바꾼 이후에 공이 들어있는 컵의 번호를 구하는 프로그램을 작성하시오.\n",
        "\n",
        "입력  \n",
        "첫째 줄에 컵의 위치를 바꾼 횟수 M이 주어지며, M은 50보다 작거나 같은 자연수이다. 둘째 줄부터 M개의 줄에는 컵의 위치를 바꾼 방법 X와 Y가 주어지며, X번 컵과 Y번 컵의 위치를 서로 바꾸는 것을 의미한다. X와 Y의 값은 3보다 작거나 같고, X와 Y가 같을 수도 있다.\n",
        "\n",
        "컵을 이동시킨 후에 공이 컵 바깥에 있는 경우는 없다.\n",
        "\n",
        "출력  \n",
        "첫째 줄에 공이 들어있는 컵의 번호를 출력한다. 공이 사라져서 컵 밑에 없는 경우에는 -1을 출력한다."
      ],
      "metadata": {
        "id": "-TbZV7iLUsXx"
      }
    },
    {
      "cell_type": "code",
      "source": [
        "N = int(input())\n",
        "\n",
        "cup = [1,2,3]\n",
        "for i in range(N):\n",
        "  a, b = map(int, input().split())\n",
        "  if cup[0] == a:\n",
        "    if cup[1] == b:\n",
        "      cup[0] = b\n",
        "      cup[1] = a\n",
        "    elif cup[2] == b:\n",
        "      cup[0] = b\n",
        "      cup[2] = a\n",
        "  elif cup[1] == a:\n",
        "    if cup[0] == b:\n",
        "      cup[1] = b\n",
        "      cup[0] = a\n",
        "    elif cup[2] == b:\n",
        "      cup[1] = b\n",
        "      cup[2] = a\n",
        "  elif cup[2] == a:\n",
        "    if cup[0] == b:\n",
        "      cup[2] = b\n",
        "      cup[0] = a\n",
        "    elif cup[1] == b:\n",
        "      cup[2] = b\n",
        "      cup[1] = a\n",
        "\n",
        "print(cup[0])"
      ],
      "metadata": {
        "colab": {
          "base_uri": "https://localhost:8080/"
        },
        "id": "EMK9sZFsR_X6",
        "outputId": "231d6883-40e8-47a9-f598-fae1c9ff53c1"
      },
      "execution_count": null,
      "outputs": [
        {
          "output_type": "stream",
          "name": "stdout",
          "text": [
            "5\n",
            "2 3\n",
            "1 3\n",
            "2 3\n",
            "2 1\n",
            "3 1\n",
            "[3, 2, 1]\n"
          ]
        }
      ]
    },
    {
      "cell_type": "markdown",
      "source": [
        "## 2752: 세수정렬\n",
        "\n",
        "문제   \n",
        "동규는 세수를 하다가 정렬이 하고 싶어졌다.\n",
        "\n",
        "정수 세 개를 생각한 뒤에, 이를 오름차순으로 정렬하고 싶어졌다.\n",
        "\n",
        "정수 세 개가 주어졌을 때, 가장 작은 수, 그 다음 수, 가장 큰 수를 출력하는 프로그램을 작성하시오.\n",
        "\n",
        "입력  \n",
        "정수 세 개가 주어진다. 이 수는 1보다 크거나 같고, 1,000,000보다 작거나 같다. 이 수는 모두 다르다.\n",
        "\n",
        "출력  \n",
        "제일 작은 수, 그 다음 수, 제일 큰 수를 차례대로 출력한다."
      ],
      "metadata": {
        "id": "CGTctcI7UtPF"
      }
    },
    {
      "cell_type": "code",
      "source": [
        "a, b, c = map(int, input().split())\n",
        "first = 0\n",
        "second = 0\n",
        "third = 0\n",
        "if a >= b:\n",
        "  if a >= c:\n",
        "    first = a\n",
        "    if b >= c:\n",
        "      second = b\n",
        "      third = c\n",
        "    else:\n",
        "      second = c\n",
        "      third = b\n",
        "  else:\n",
        "    first = c\n",
        "    second = a\n",
        "    third = b\n",
        "else:\n",
        "  if b >= c:\n",
        "    first = b\n",
        "    if a >= c:\n",
        "      second = a\n",
        "      third = c\n",
        "    else:\n",
        "      second = c\n",
        "      third = a\n",
        "  else:\n",
        "    first = c\n",
        "    second = b\n",
        "    third = a\n",
        "\n",
        "print(third, second, first)"
      ],
      "metadata": {
        "id": "P19wkyvtUtaA",
        "colab": {
          "base_uri": "https://localhost:8080/"
        },
        "outputId": "8e1113f3-514d-459b-b11f-d8d75ea731fc"
      },
      "execution_count": null,
      "outputs": [
        {
          "output_type": "stream",
          "name": "stdout",
          "text": [
            "3 1 2\n",
            "1 2 3\n"
          ]
        }
      ]
    },
    {
      "cell_type": "markdown",
      "source": [
        "## 24263: 알고리즘 수업 - 알고리즘의 수행 시간 2  \n",
        "\n",
        "문제  \n",
        "오늘도 서준이는 알고리즘의 수행시간 수업 조교를 하고 있다. 아빠가 수업한 내용을 학생들이 잘 이해했는지 문제를 통해서 확인해보자.\n",
        "\n",
        "입력의 크기 n이 주어지면 MenOfPassion 알고리즘 수행 시간을 예제 출력과 같은 방식으로 출력해보자.\n",
        "\n",
        "MenOfPassion 알고리즘은 다음과 같다.\n",
        "\n",
        "MenOfPassion(A[], n) {\n",
        "    sum <- 0;\n",
        "    for i <- 1 to n\n",
        "        sum <- sum + A[i]; # 코드1\n",
        "    return sum;\n",
        "}\n",
        "입력  \n",
        "첫째 줄에 입력의 크기 n(1 ≤ n ≤ 500,000)이 주어진다.\n",
        "\n",
        "출력  \n",
        "첫째 줄에 코드1 의 수행 횟수를 출력한다.\n",
        "\n",
        "둘째 줄에 코드1의 수행 횟수를 다항식으로 나타내었을 때, 최고차항의 차수를 출력한다. 단, 다항식으로 나타낼 수 없거나 최고차항의 차수가 3보다 크면 4를 출력한다."
      ],
      "metadata": {
        "id": "eSMBcWJ2UtlQ"
      }
    },
    {
      "cell_type": "code",
      "source": [
        "n = int(input())\n",
        "\n",
        "print(n)\n",
        "print(1)"
      ],
      "metadata": {
        "id": "Re3NqWpPUtvE",
        "colab": {
          "base_uri": "https://localhost:8080/"
        },
        "outputId": "14977012-a6cd-43ef-a631-0f806a3abbbe"
      },
      "execution_count": null,
      "outputs": [
        {
          "output_type": "stream",
          "name": "stdout",
          "text": [
            "7\n",
            "7\n",
            "1\n"
          ]
        }
      ]
    },
    {
      "cell_type": "markdown",
      "source": [
        "## 11720: 숫자의 합\n",
        "\n",
        "문제  \n",
        "N개의 숫자가 공백 없이 쓰여있다. 이 숫자를 모두 합해서 출력하는 프로그램을 작성하시오.\n",
        "\n",
        "입력  \n",
        "첫째 줄에 숫자의 개수 N (1 ≤ N ≤ 100)이 주어진다. 둘째 줄에 숫자 N개가 공백없이 주어진다.\n",
        "\n",
        "출력  \n",
        "입력으로 주어진 숫자 N개의 합을 출력한다."
      ],
      "metadata": {
        "id": "4R7d45ykUt5H"
      }
    },
    {
      "cell_type": "code",
      "source": [
        "n = int(input())\n",
        "s = input()\n",
        "sum = 0\n",
        "for i in range(n):\n",
        "  sum = sum + int(s[i])\n",
        "print(sum)"
      ],
      "metadata": {
        "id": "eDEYhJ7YUuCt",
        "colab": {
          "base_uri": "https://localhost:8080/"
        },
        "outputId": "948884f1-178c-4ebc-8c5f-4ffaa5755f43"
      },
      "execution_count": null,
      "outputs": [
        {
          "output_type": "stream",
          "name": "stdout",
          "text": [
            "11\n",
            "10987654321\n",
            "46\n"
          ]
        }
      ]
    },
    {
      "cell_type": "markdown",
      "source": [
        "## 1264: 모음의 개수\n",
        "\n",
        "문제  \n",
        "영문 문장을 입력받아 모음의 개수를 세는 프로그램을 작성하시오. 모음은 'a', 'e', 'i', 'o', 'u'이며 대문자 또는 소문자이다.\n",
        "\n",
        "입력  \n",
        "입력은 여러 개의 테스트 케이스로 이루어져 있으며, 각 줄마다 영어 대소문자, ',', '.', '!', '?', 공백으로 이루어진 문장이 주어진다. 각 줄은 최대 255글자로 이루어져 있다.\n",
        "\n",
        "입력의 끝에는 한 줄에 '#' 한 글자만이 주어진다.\n",
        "\n",
        "출력  \n",
        "각 줄마다 모음의 개수를 세서 출력한다"
      ],
      "metadata": {
        "id": "t9byHZPTUuOO"
      }
    },
    {
      "cell_type": "code",
      "source": [
        "string = list()\n",
        "while 1:\n",
        "  s = input()\n",
        "  if s == \"#\":\n",
        "    break\n",
        "  string.append(s)\n",
        "\n",
        "\n",
        "for i in range(len(string)):\n",
        "  sum = 0\n",
        "  for j in string[i]:\n",
        "    if j == \"a\" or j == \"e\" or j == \"i\" or j == \"o\" or j == \"u\" or j == \"A\" or j == \"E\" or j == \"I\" or j == \"O\" or j == \"U\":\n",
        "      sum += 1\n",
        "  print(sum)"
      ],
      "metadata": {
        "id": "4B3Pzzu6UuXt",
        "colab": {
          "base_uri": "https://localhost:8080/"
        },
        "outputId": "ef1d96ea-49fe-4586-cea2-a8f0f5296e17"
      },
      "execution_count": null,
      "outputs": [
        {
          "output_type": "stream",
          "name": "stdout",
          "text": [
            "How are you today?\n",
            "Quite well, thank you, how about yourself?\n",
            "I live at number twenty four.\n",
            "#\n",
            "7\n",
            "14\n",
            "9\n"
          ]
        }
      ]
    },
    {
      "cell_type": "markdown",
      "source": [
        "## 2480: 주사위 세 개\n",
        "\n",
        "문제  \n",
        "1에서부터 6까지의 눈을 가진 3개의 주사위를 던져서 다음과 같은 규칙에 따라 상금을 받는 게임이 있다.\n",
        "\n",
        "같은 눈이 3개가 나오면 10,000원+(같은 눈)×1,000원의 상금을 받게 된다.\n",
        "같은 눈이 2개만 나오는 경우에는 1,000원+(같은 눈)×100원의 상금을 받게 된다.\n",
        "모두 다른 눈이 나오는 경우에는 (그 중 가장 큰 눈)×100원의 상금을 받게 된다.  \n",
        "예를 들어, 3개의 눈 3, 3, 6이 주어지면 상금은 1,000+3×100으로 계산되어 1,300원을 받게 된다. 또 3개의 눈이 2, 2, 2로 주어지면 10,000+2×1,000 으로 계산되어 12,000원을 받게 된다. 3개의 눈이 6, 2, 5로 주어지면 그중 가장 큰 값이 6이므로 6×100으로 계산되어 600원을 상금으로 받게 된다.\n",
        "\n",
        "3개 주사위의 나온 눈이 주어질 때, 상금을 계산하는 프로그램을 작성 하시오.\n",
        "\n",
        "입력  \n",
        "첫째 줄에 3개의 눈이 빈칸을 사이에 두고 각각 주어진다.\n",
        "\n",
        "출력  \n",
        "첫째 줄에 게임의 상금을 출력 한다.\n"
      ],
      "metadata": {
        "id": "nyf5-oNlUulf"
      }
    },
    {
      "cell_type": "code",
      "source": [
        "a, b, c = map(int, input().split())\n",
        "\n",
        "if a == b == c:\n",
        "  price = 10000 + a * 1000\n",
        "elif a == b or b == c or c == a:\n",
        "  if a == b or b == c:\n",
        "    price = 1000 + b * 100\n",
        "  else:\n",
        "    price = 1000 + c * 100\n",
        "else:\n",
        "  if a > b:\n",
        "    if a > c:\n",
        "      price = a * 100\n",
        "    else:\n",
        "      price = c * 100\n",
        "  else:\n",
        "    if b > c:\n",
        "      price = b * 100\n",
        "    else:\n",
        "      price = c * 100\n",
        "\n",
        "print(price)\n"
      ],
      "metadata": {
        "id": "xGczwQknUuux",
        "colab": {
          "base_uri": "https://localhost:8080/"
        },
        "outputId": "1cf892ec-500c-436a-a005-c7ab95d02019"
      },
      "execution_count": 2,
      "outputs": [
        {
          "output_type": "stream",
          "name": "stdout",
          "text": [
            "2 2 2\n",
            "12000\n"
          ]
        }
      ]
    },
    {
      "cell_type": "markdown",
      "source": [
        "## 10768: 특별한 날\n",
        "\n",
        "\n",
        "문제  \n",
        "2월 18일은 올해 CCC에 있어서 특별한 날이다.\n",
        "\n",
        "사용자로부터 정수인 월과 일을 입력받아 날짜가 2월 18일인지 전인지 후인지를 출력하는 프로그램이다.\n",
        "\n",
        "만약 날짜가 2월 18일 전이면, \"Before\"을 출력한다. 만약 날짜가 2월 18일 후면, \"After\"을 출력한다. 만약 2월 18일이라면 \"Special\" 을 출력한다.\n",
        "\n",
        "입력  \n",
        "입력은 두 개의 정수가 각 줄에 걸쳐 입력된다. 이 정수들은 2015년의 날짜에 포함된다.\n",
        "\n",
        "첫 번째 줄은 1에서 12사이의 월을 입력한다.\n",
        "\n",
        "두 번째 줄은 1에서 31사이의 그 달에 들어있는 날짜를 입력한다 .\n",
        "\n",
        "출력  \n",
        "마지막 줄에 \"Before\", \"After\"나 \"Special\"을 출력한다"
      ],
      "metadata": {
        "id": "VtyAOfmRnJOd"
      }
    },
    {
      "cell_type": "code",
      "source": [
        "month = int(input())\n",
        "day = int(input())\n",
        "\n",
        "if month == 2:\n",
        "  if day == 18:\n",
        "    print(\"Special\")\n",
        "  elif day < 18:\n",
        "    print(\"Before\")\n",
        "  else:\n",
        "    print(\"After\")\n",
        "elif month < 2:\n",
        "  print(\"Before\")\n",
        "else:\n",
        "  print(\"After\")"
      ],
      "metadata": {
        "colab": {
          "base_uri": "https://localhost:8080/"
        },
        "id": "VBUDMciinJYm",
        "outputId": "595db7a6-b1c8-43fb-84b2-b0fdc7dbfaaf"
      },
      "execution_count": 5,
      "outputs": [
        {
          "output_type": "stream",
          "name": "stdout",
          "text": [
            "8\n",
            "30\n",
            "After\n"
          ]
        }
      ]
    },
    {
      "cell_type": "markdown",
      "source": [
        "## 11948: 과목선택\n",
        "\n",
        "문제  \n",
        "JOI는 물리, 화학, 생물, 지구과학, 역사, 지리 총 6 과목의 시험을 봤다. 각 시험의 만점은 100점이다.\n",
        "\n",
        "JOI는 물리, 화학, 생물, 지구과학 4과목 중에서 3 과목을 선택하고 역사, 지리 2 과목 중에서 한 과목을 선택한다.\n",
        "\n",
        "시험 점수의 합이 가장 높게 나오도록 과목을 선택할 때, JOI가 선택한 과목의 시험 점수의 합을 구하시오.\n",
        "\n",
        "입력  \n",
        "입력은 6행으로 되어있으며, 각 행에 1개의 정수가 주어진다.\n",
        "\n",
        "1행에는 JOI의 물리 시험의 점수 A가 주어진다.\n",
        "\n",
        "2행에는 JOI의 화학 시험의 점수 B가 주어진다.\n",
        "\n",
        "3행에는 JOI의 생물 시험의 점수 C가 주어진다.\n",
        "\n",
        "4행에는 JOI의 지구과학의 시험 점수 D가 주어진다.\n",
        "\n",
        "5행에는 JOI의 역사 시험의 점수 E가 주어진다.\n",
        "\n",
        "6행에는 JOI의 지리 시험의 점수 F가 주어진다.\n",
        "\n",
        "입력한 정수 A, B, C, D, E, F는 모두 0이상 100이하이다.\n",
        "\n",
        "출력  \n",
        "JOI가 선택한 과목의 총 점수를 1행에 출력하시오."
      ],
      "metadata": {
        "id": "wD4-O7CSYx3D"
      }
    },
    {
      "cell_type": "code",
      "source": [
        "A = int(input())\n",
        "B = int(input())\n",
        "C = int(input())\n",
        "D = int(input())\n",
        "E = int(input())\n",
        "F = int(input())\n",
        "\n",
        "e = 0\n",
        "if A <= B and A <= C and A <= D:\n",
        "  e = B + C + D\n",
        "elif B <= A and B <= C and B <= D:\n",
        "  e = A + C + D\n",
        "elif C <= A and C <= B and C <= D:\n",
        "  e = A + B + D\n",
        "else:\n",
        "  e = A + B + C\n",
        "\n",
        "m = 0\n",
        "if E >= F:\n",
        "  m = E\n",
        "else:\n",
        "  m = F\n",
        "\n",
        "print(e + m)"
      ],
      "metadata": {
        "id": "5ZwlR_RDnLIN",
        "colab": {
          "base_uri": "https://localhost:8080/"
        },
        "outputId": "38c53d7b-9810-4c7b-e53c-c3612f893b88"
      },
      "execution_count": 7,
      "outputs": [
        {
          "output_type": "stream",
          "name": "stdout",
          "text": [
            "15\n",
            "21\n",
            "15\n",
            "42\n",
            "15\n",
            "62\n",
            "140\n"
          ]
        }
      ]
    },
    {
      "cell_type": "markdown",
      "source": [
        "## 10156: 과자\n",
        "\n",
        "문제  \n",
        "동수는 제과점에 과자를 사러 가는데 현재 가진 돈이 모자랄 경우 부모님께 모자란 돈을 받으려고 한다. 과자 한 개의 가격이 K, 사려고 하는 과자의 개수가 N이고, 현재 가진 돈의 액수를 M이라 할 때 여러분은 동수가 부모님께 받아야 하는 모자란 돈을 계산하려고 한다.\n",
        "\n",
        "예를 들어, 과자 한 개의 가격이 30원, 사려고 하는 과자의 개수가 4개, 현재 동수가 가진 돈이 100원이라 할 때, 동수가 부모님께 받아야 하는 돈은 20원이다. 과자 한 개의 가격이 250원, 사려고 하는 과자의 개수가 2개, 현재 동수가 가진 돈이 140원이라 할 때, 동수가 부모님께 받아야 하는 돈은 360원이다. 과자 한 개의 가격이 20원, 사려고 하는 과자의 개수가 6개, 현재 동수가 가진 돈이 120원이라 할 때 동수가 부모님께 받아야 하는 돈은 0원이다. 과자 한 개의 가격이 20원, 사려고 하는 과자의 개수가 10개, 현재 동수가 가진 돈이 320원이라 할 때 동수가 부모님께 받아야 하는 돈은 역시 0원이다.\n",
        "\n",
        "과자 한 개의 가격, 사려고 하는 과자의 개수와 동수가 현재 가진 돈의 액수가 주어질 때 동수가 부모님께 받아야 하는 돈의 액수를 출력하는 프로그램을 작성하시오.\n",
        "\n",
        "입력  \n",
        "첫 번째 줄에는 과자 한 개의 가격 K, 사려고 하는 과자의 개수 N, 현재 동수가 가진 돈 M이 각각 공백을 사이에 두고 주어진다. 단, K, N은 1,000 이하의 양의 정수이고, M은 10만 이하의 양의 정수이다. (1 ≤ K, N ≤ 1,000, 1 ≤ M ≤ 100,000이다.)\n",
        "\n",
        "출력  \n",
        "첫 줄에 동수가 부모님께 받아야 하는 돈의 액수를 출력한다."
      ],
      "metadata": {
        "id": "cwQgNCVrY3J0"
      }
    },
    {
      "cell_type": "code",
      "source": [
        "K, N, M = map(int, input().split())\n",
        "\n",
        "total = K * N - M\n",
        "if total < 0:\n",
        "  total = 0\n",
        "print(total)"
      ],
      "metadata": {
        "colab": {
          "base_uri": "https://localhost:8080/"
        },
        "id": "e2UePXMNY3gm",
        "outputId": "8e33dab4-0149-4238-ef54-9e3b3b93b91c"
      },
      "execution_count": 10,
      "outputs": [
        {
          "output_type": "stream",
          "name": "stdout",
          "text": [
            "20 6 120\n",
            "0\n"
          ]
        }
      ]
    },
    {
      "cell_type": "markdown",
      "source": [
        "## 5543: 상근날드\n",
        "\n",
        "문제  \n",
        "상근날드에서 가장 잘 팔리는 메뉴는 세트 메뉴이다. 주문할 때, 자신이 원하는 햄버거와 음료를 하나씩 골라, 세트로 구매하면, 가격의 합계에서 50원을 뺀 가격이 세트 메뉴의 가격이 된다.\n",
        "\n",
        "햄버거는 총 3종류 상덕버거, 중덕버거, 하덕버거가 있고, 음료는 콜라와 사이다 두 종류가 있다.\n",
        "\n",
        "햄버거와 음료의 가격이 주어졌을 때, 가장 싼 세트 메뉴의 가격을 출력하는 프로그램을 작성하시오.\n",
        "\n",
        "입력  \n",
        "입력은 총 다섯 줄이다. 첫째 줄에는 상덕버거, 둘째 줄에는 중덕버거, 셋째 줄에는 하덕버거의 가격이 주어진다. 넷째 줄에는 콜라의 가격, 다섯째 줄에는 사이다의 가격이 주어진다. 모든 가격은 100원 이상, 2000원 이하이다.\n",
        "\n",
        "출력  \n",
        "첫째 줄에 가장 싼 세트 메뉴의 가격을 출력한다."
      ],
      "metadata": {
        "id": "JKrq0ItwY3su"
      }
    },
    {
      "cell_type": "code",
      "source": [
        "a = int(input())\n",
        "b = int(input())\n",
        "c = int(input())\n",
        "\n",
        "d = int(input())\n",
        "e = int(input())\n",
        "\n",
        "ham = 0\n",
        "if a <= b and a <= c:\n",
        "  ham = a\n",
        "elif b <= a and b <= c:\n",
        "  ham = b\n",
        "else:\n",
        "  ham = c\n",
        "\n",
        "drink = 0\n",
        "if d <= e:\n",
        "  drink = d\n",
        "else:\n",
        "  drink = e\n",
        "\n",
        "print(ham + drink - 50)"
      ],
      "metadata": {
        "colab": {
          "base_uri": "https://localhost:8080/"
        },
        "id": "s-qpdFIKY3-6",
        "outputId": "bb67ed3c-3d43-4b6b-bfa1-babe8c14d5d4"
      },
      "execution_count": 15,
      "outputs": [
        {
          "output_type": "stream",
          "name": "stdout",
          "text": [
            "1999\n",
            "1999\n",
            "100\n",
            "189\n",
            "100\n",
            "150\n"
          ]
        }
      ]
    },
    {
      "cell_type": "markdown",
      "source": [
        "## 11365: !밀비 급일\n",
        "\n",
        "\n",
        "문제  \n",
        "당신은 길을 가다가 이상한 쪽지를 발견했다. 그 쪽지에는 암호가 적혀 있었는데, 똑똑한 당신은 암호가 뒤집으면 해독된다는 것을 발견했다.\n",
        "\n",
        "이 암호를 해독하는 프로그램을 작성하시오.\n",
        "\n",
        "입력  \n",
        "한 줄에 하나의 암호가 주어진다. 암호의 길이는 500을 넘지 않는다.\n",
        "\n",
        "마지막 줄에는 \"END\"가 주어진다. (END는 해독하지 않는다.)\n",
        "\n",
        "출력  \n",
        "각 암호가 해독된 것을 한 줄에 하나씩 출력한다."
      ],
      "metadata": {
        "id": "qDUGrlmuY4s3"
      }
    },
    {
      "cell_type": "code",
      "source": [
        "arr = list()\n",
        "n = 0\n",
        "while 1:\n",
        "  code = input()\n",
        "  if code == \"END\":\n",
        "    break\n",
        "  arr.append(code)\n",
        "  n += 1\n",
        "\n",
        "for i in range(n):\n",
        "  print(arr[i][::-1])"
      ],
      "metadata": {
        "colab": {
          "base_uri": "https://localhost:8080/"
        },
        "id": "mRQQV4L-Y44m",
        "outputId": "50a4c53a-3d3c-40a9-d52a-da2514d302ba"
      },
      "execution_count": 19,
      "outputs": [
        {
          "output_type": "stream",
          "name": "stdout",
          "text": [
            "!edoc doog a tahW\n",
            "noitacitsufbo\n",
            "erafraw enirambus detcirtsernu yraurbeF fo tsrif eht no nigeb ot dnetni eW\n",
            "lla sees rodroM fo drol eht ,ssertrof sih nihtiw delaecnoC\n",
            "END\n",
            "What a good code!\n",
            "obfustication\n",
            "We intend to begin on the first of February unrestricted submarine warfare\n",
            "Concealed within his fortress, the lord of Mordor sees all\n"
          ]
        }
      ]
    },
    {
      "cell_type": "markdown",
      "source": [
        "## 11943: 파일 옮기기\n",
        "\n",
        "문제  \n",
        "두 개의 바구니에 사과와 오렌지가 있다. 첫 번째 바구니에는 사과 A개와 오렌지 B개가 있으며 두 번째 바구니에는 사과 C개와 오렌지 D개가 있다.\n",
        "\n",
        "당신은 한 바구니에 있는 과일 하나를 집어서 다른 바구니로 옮길 수 있다. 이런 식으로 과일을 옮길 때, 한 바구니에는 사과만 있게 하고 다른 쪽에는 오렌지만 있게 하려고 한다.\n",
        "\n",
        "앞서 말한 조건을 만족하도록 과일을 옮길 때, 과일을 옮기는 최소 횟수를 구하는 프로그램을 작성하여라.\n",
        "\n",
        "입력   \n",
        "첫 번째 줄에는 첫 번째 바구니에 있는 사과와 오렌지의 수 A, B가 주어진다. (0 ≤ A, B ≤ 1,000)\n",
        "\n",
        "두 번째 줄에는 두 번째 바구니에 있는 사과와 오렌지의 수 C, D가 주어진다. (0 ≤ C, D ≤ 1,000)\n",
        "\n",
        "출력  \n",
        "사과와 오렌지를 옮기는 최소 횟수를 출력한다."
      ],
      "metadata": {
        "id": "oYuW08-mY5H1"
      }
    },
    {
      "cell_type": "code",
      "source": [
        "A, B = map(int, input().split())\n",
        "C, D = map(int, input().split())\n",
        "\n",
        "case1 = A + D\n",
        "case2 = B + C\n",
        "if case1 >= case2:\n",
        "  print(case2)\n",
        "else:\n",
        "  print(case1)"
      ],
      "metadata": {
        "colab": {
          "base_uri": "https://localhost:8080/"
        },
        "id": "YudeBxP9Y5R7",
        "outputId": "d4678acd-4edb-42f8-af9e-e1f159283cc9"
      },
      "execution_count": 22,
      "outputs": [
        {
          "output_type": "stream",
          "name": "stdout",
          "text": [
            "5 2\n",
            "6 2\n",
            "7\n"
          ]
        }
      ]
    },
    {
      "cell_type": "markdown",
      "source": [
        "## 10101: 삼각형 외우기\n",
        "\n",
        "문제  \n",
        "창영이는 삼각형의 종류를 잘 구분하지 못한다. 따라서 프로그램을 이용해 이를 외우려고 한다.\n",
        "\n",
        "삼각형의 세 각을 입력받은 다음,\n",
        "\n",
        "세 각의 크기가 모두 60이면, Equilateral\n",
        "세 각의 합이 180이고, 두 각이 같은 경우에는 Isosceles\n",
        "세 각의 합이 180이고, 같은 각이 없는 경우에는 Scalene\n",
        "세 각의 합이 180이 아닌 경우에는 Error\n",
        "를 출력하는 프로그램을 작성하시오.\n",
        "\n",
        "입력  \n",
        "총 3개의 줄에 걸쳐 삼각형의 각의 크기가 주어진다. 모든 정수는 0보다 크고, 180보다 작다.\n",
        "\n",
        "출력  \n",
        "문제의 설명에 따라 Equilateral, Isosceles, Scalene, Error 중 하나를 출력한다."
      ],
      "metadata": {
        "id": "_-ZFWgLYY5h0"
      }
    },
    {
      "cell_type": "code",
      "source": [
        "a = int(input())\n",
        "b = int(input())\n",
        "c = int(input())\n",
        "\n",
        "if a+b+c == 180:\n",
        "  if a == b == c:\n",
        "    print(\"Equilateral\")\n",
        "  elif a == b or b == c or c == a:\n",
        "    print(\"Isosceles\")\n",
        "  else:\n",
        "    print(\"Scalene\")\n",
        "else:\n",
        "  print(\"Error\")"
      ],
      "metadata": {
        "colab": {
          "base_uri": "https://localhost:8080/"
        },
        "id": "SqjH6arUY5yf",
        "outputId": "12d987a8-52e7-46dd-c252-35f1396d4d6e"
      },
      "execution_count": 23,
      "outputs": [
        {
          "output_type": "stream",
          "name": "stdout",
          "text": [
            "60\n",
            "70\n",
            "50\n",
            "Scalene\n"
          ]
        }
      ]
    },
    {
      "cell_type": "code",
      "source": [],
      "metadata": {
        "id": "ropkWKfBY6Qk"
      },
      "execution_count": null,
      "outputs": []
    }
  ]
}