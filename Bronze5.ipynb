{
  "nbformat": 4,
  "nbformat_minor": 0,
  "metadata": {
    "colab": {
      "provenance": []
    },
    "kernelspec": {
      "name": "python3",
      "display_name": "Python 3"
    },
    "language_info": {
      "name": "python"
    }
  },
  "cells": [
    {
      "cell_type": "markdown",
      "source": [
        "# Bronze5\n",
        "\n",
        "백준 문제풀이"
      ],
      "metadata": {
        "id": "9AC89VxW_3GW"
      }
    },
    {
      "cell_type": "markdown",
      "source": [
        "## 10430: 나머지\n",
        "\n",
        "문제  \n",
        "(A+B)%C는 ((A%C) + (B%C))%C 와 같을까?  \n",
        "  \n",
        "(A×B)%C는 ((A%C) × (B%C))%C 와 같을까?  \n",
        "  \n",
        "세 수 A, B, C가 주어졌을 때, 위의 네 가지 값을 구하는 프로그램을 작성하시오.\n",
        "  \n",
        "입력  \n",
        "첫째 줄에 A, B, C가 순서대로 주어진다. (2 ≤ A, B, C ≤ 10000)  \n",
        "  \n",
        "출력  \n",
        "첫째 줄에 (A+B)%C, 둘째 줄에 ((A%C) + (B%C))%C, 셋째 줄에 (A×B)%C, 넷째 줄에 ((A%C) × (B%C))%C를 출력한다."
      ],
      "metadata": {
        "id": "G8GO3mhXAJBC"
      }
    },
    {
      "cell_type": "code",
      "execution_count": null,
      "metadata": {
        "colab": {
          "base_uri": "https://localhost:8080/"
        },
        "id": "BVzCmXfx_ni7",
        "outputId": "9f389255-b715-4ba5-cebd-c54a49ac6927"
      },
      "outputs": [
        {
          "output_type": "stream",
          "name": "stdout",
          "text": [
            "5 8 4\n",
            "1\n",
            "1\n",
            "0\n",
            "0\n"
          ]
        }
      ],
      "source": [
        "A, B, C = map(int,input().split())\n",
        "print((A+B)%C)\n",
        "print(((A%C) + (B%C))%C)\n",
        "print((A * B)%C)\n",
        "print(((A%C) * (B%C))%C)"
      ]
    },
    {
      "cell_type": "markdown",
      "source": [
        "## 25314: 코딩은 체육과목 입니다\n",
        "\n",
        "문제  \n",
        "\n",
        "\n",
        "오늘은 혜아의 면접 날이다. 면접 준비를 열심히 해서 앞선 질문들을 잘 대답한 혜아는 이제 마지막으로 칠판에 직접 코딩하는 문제를 받았다. 혜아가 받은 문제는 두 수를 더하는 문제였다. C++ 책을 열심히 읽었던 혜아는 간단히 두 수를 더하는 코드를 칠판에 적었다. 코드를 본 면접관은 다음 질문을 했다. “만약, 입출력이\n",
        "$N$바이트 크기의 정수라면 프로그램을 어떻게 구현해야 할까요?”\n",
        "\n",
        "혜아는 책에 있는 정수 자료형과 관련된 내용을 기억해 냈다. 책에는 long int는\n",
        "$4$바이트 정수까지 저장할 수 있는 정수 자료형이고 long long int는\n",
        "$8$바이트 정수까지 저장할 수 있는 정수 자료형이라고 적혀 있었다. 혜아는 이런 생각이 들었다. “int 앞에 long을 하나씩 더 붙일 때마다\n",
        "$4$바이트씩 저장할 수 있는 공간이 늘어나는 걸까? 분명 long long long int는\n",
        "$12$바이트, long long long long int는\n",
        "$16$바이트까지 저장할 수 있는 정수 자료형일 거야!” 그렇게 혜아는 당황하는 면접관의 얼굴을 뒤로한 채 칠판에 정수 자료형을 써 내려가기 시작했다.  \n",
        "\n",
        "혜아가\n",
        "$N$바이트 정수까지 저장할 수 있다고 생각해서 칠판에 쓴 정수 자료형의 이름은 무엇일까?  \n",
        "\n",
        "입력    \n",
        "첫 번째 줄에는 문제의 정수\n",
        "$N$이 주어진다.\n",
        "$(4\\le N\\le 1\\, 000$;\n",
        "$N$은\n",
        "$4$의 배수\n",
        "$)$\n",
        "\n",
        "출력  \n",
        "혜아가\n",
        "$N$바이트 정수까지 저장할 수 있다고 생각하는 정수 자료형의 이름을 출력하여라."
      ],
      "metadata": {
        "id": "F-urMXhSAn0G"
      }
    },
    {
      "cell_type": "code",
      "source": [
        "N = int(input())\n",
        "s = \"int\"\n",
        "l = \"long \" * (int(N/4))\n",
        "print(l + s)"
      ],
      "metadata": {
        "colab": {
          "base_uri": "https://localhost:8080/"
        },
        "id": "UW6fdSjDAoO4",
        "outputId": "494e61ae-3957-4630-f528-f56a969c1722"
      },
      "execution_count": null,
      "outputs": [
        {
          "output_type": "stream",
          "name": "stdout",
          "text": [
            "20\n",
            "long long long long long int\n"
          ]
        }
      ]
    },
    {
      "cell_type": "markdown",
      "source": [
        "## 18108: 1998년생인 내가 태국에서는 2541년생?!\n",
        "\n",
        "문제  \n",
        "ICPC Bangkok Regional에 참가하기 위해 수완나품 국제공항에 막 도착한 팀 레드시프트 일행은 눈을 믿을 수 없었다. 공항의 대형 스크린에 올해가 2562년이라고 적혀 있던 것이었다.  \n",
        "\n",
        "불교 국가인 태국은 불멸기원(佛滅紀元), 즉 석가모니가 열반한 해를 기준으로 연도를 세는 불기를 사용한다. 반면, 우리나라는 서기 연도를 사용하고 있다. 불기 연도가 주어질 때 이를 서기 연도로 바꿔 주는 프로그램을 작성하시오.  \n",
        "\n",
        "입력  \n",
        "서기 연도를 알아보고 싶은 불기 연도 y가 주어진다. (1000 ≤ y ≤ 3000)  \n",
        "\n",
        "출력  \n",
        "불기 연도를 서기 연도로 변환한 결과를 출력한다.  "
      ],
      "metadata": {
        "id": "XnUgyt5NAogC"
      }
    },
    {
      "cell_type": "code",
      "source": [
        "y = int(input())\n",
        "print(y-543)"
      ],
      "metadata": {
        "id": "Bcpk1AfNAo1Q",
        "colab": {
          "base_uri": "https://localhost:8080/"
        },
        "outputId": "61f79692-96e4-4834-eca3-d01c804fc9f1"
      },
      "execution_count": 5,
      "outputs": [
        {
          "output_type": "stream",
          "name": "stdout",
          "text": [
            "2541\n",
            "1998\n"
          ]
        }
      ]
    },
    {
      "cell_type": "markdown",
      "source": [
        "## 3003: 킹, 퀸, 룩, 비숍, 나이트, 폰\n",
        "\n",
        "문제   \n",
        "동혁이는 오래된 창고를 뒤지다가 낡은 체스판과 피스를 발견했다.  \n",
        "\n",
        "체스판의 먼지를 털어내고 걸레로 닦으니 그럭저럭 쓸만한 체스판이 되었다. 하지만, 검정색 피스는 모두 있었으나, 흰색 피스는 개수가 올바르지 않았다.  \n",
        "\n",
        "체스는 총 16개의 피스를 사용하며, 킹 1개, 퀸 1개, 룩 2개, 비숍 2개, 나이트 2개, 폰 8개로 구성되어 있다.  \n",
        "\n",
        "동혁이가 발견한 흰색 피스의 개수가 주어졌을 때, 몇 개를 더하거나 빼야 올바른 세트가 되는지 구하는 프로그램을 작성하시오.  \n",
        "\n",
        "입력  \n",
        "첫째 줄에 동혁이가 찾은 흰색 킹, 퀸, 룩, 비숍, 나이트, 폰의 개수가 주어진다. 이 값은 0보다 크거나 같고 10보다 작거나 같은 정수이다.  \n",
        "\n",
        "출력  \n",
        "첫째 줄에 입력에서 주어진 순서대로 몇 개의 피스를 더하거나 빼야 되는지를 출력한다. 만약 수가 양수라면 동혁이는 그 개수 만큼 피스를 더해야 하는 것이고, 음수라면 제거해야 하는 것이다.  "
      ],
      "metadata": {
        "id": "dvpAu2ocAtIW"
      }
    },
    {
      "cell_type": "code",
      "source": [
        "a, b, c, d, e, f = map(int, input().split())\n",
        "cor = list()\n",
        "if a != 1:\n",
        "  cor.append(1-a)\n",
        "else:\n",
        "  cor.append(0)\n",
        "\n",
        "if b != 1:\n",
        "  cor.append(1-b)\n",
        "else:\n",
        "  cor.append(0)\n",
        "\n",
        "if c != 2:\n",
        "  cor.append(2-c)\n",
        "else:\n",
        "  cor.append(0)\n",
        "\n",
        "if d != 2:\n",
        "  cor.append(2-d)\n",
        "else:\n",
        "  cor.append(0)\n",
        "\n",
        "if e != 2:\n",
        "  cor.append(2-e)\n",
        "else:\n",
        "  cor.append(0)\n",
        "\n",
        "if f != 8:\n",
        "  cor.append(8-f)\n",
        "else:\n",
        "  cor.append(0)\n",
        "\n",
        "print(cor[0], cor[1], cor[2], cor[3], cor[4], cor[5])"
      ],
      "metadata": {
        "id": "1ZB3fu1HAtbH",
        "colab": {
          "base_uri": "https://localhost:8080/"
        },
        "outputId": "03fd9975-82b0-4ea4-fffc-a9099207fec9"
      },
      "execution_count": 10,
      "outputs": [
        {
          "output_type": "stream",
          "name": "stdout",
          "text": [
            "2 1 2 1 2 1\n",
            "-1 0 0 1 0 7\n"
          ]
        }
      ]
    },
    {
      "cell_type": "markdown",
      "source": [
        "## 1271: 엄청난 부자2\n",
        "\n",
        "문제  \n",
        "갑부 최백준 조교는 동전을 최소로 바꾸는데 성공했으나 김재홍 조교가 그 돈을 발견해서 최백준 조교에게 그 돈을 나누자고 따진다.\n",
        "\n",
        "그 사실이 전 우주로 알려지자 우주에 있던 많은 생명체들이 자신들에게 돈을 분배해 달라고 당장 달려오기 시작했다.\n",
        "\n",
        "프로토스 중앙 우주 정부의 정책인, ‘모든 지적 생명체는 동등하다’라는 규칙에 입각해서 돈을 똑같이 분배하고자 한다.\n",
        "\n",
        "한 생명체에게 얼마씩 돈을 줄 수 있는가?\n",
        "\n",
        "또, 생명체들에게 동일하게 분배한 후 남는 돈은 얼마인가?  \n",
        "\n",
        "입력  \n",
        "첫째 줄에는 최백준 조교가 가진 돈 n과 돈을 받으러 온 생명체의 수 m이 주어진다. (1 ≤ m ≤ n ≤ 101000, m과 n은 10진수 정수)  \n",
        "\n",
        "출력  \n",
        "첫째 줄에 생명체 하나에게 돌아가는 돈의 양을 출력한다. 그리고 두 번째 줄에는 1원씩 분배할 수 없는 남는 돈을 출력한다."
      ],
      "metadata": {
        "id": "OYP_5YHNAtqb"
      }
    },
    {
      "cell_type": "code",
      "source": [
        "n, m = map(int, input().split())\n",
        "print(n//m)\n",
        "print(n%m)"
      ],
      "metadata": {
        "id": "YxmO_8BUAt7J",
        "colab": {
          "base_uri": "https://localhost:8080/"
        },
        "outputId": "5b68e675-dfc6-4061-a679-af422dfdd221"
      },
      "execution_count": 15,
      "outputs": [
        {
          "output_type": "stream",
          "name": "stdout",
          "text": [
            "1000 100\n",
            "10\n",
            "0\n"
          ]
        }
      ]
    },
    {
      "cell_type": "markdown",
      "source": [
        "## 1401: 크냐?\n",
        "\n",
        "문제  \n",
        "두 양의 정수가 주어졌을 때, 첫 번째 수가 두 번째 수보다 큰지 구하는 프로그램을 작성하시오.  \n",
        "\n",
        "입력  \n",
        "입력은 여러 개의 테스트 케이스로 이루어져 있다. 각 테스트 케이스는 한 줄로 이루어져 있으며, 두 정수가 주어진다. 두 수는 백만보다 작거나 같은 양의 정수이다. 입력의 마지막 줄에는 0이 두 개 주어진다.  \n",
        "\n",
        "출력  \n",
        "각 테스트 케이스마다, 첫 번째 수가 두 번째 수보다 크면 Yes를, 아니면 No를 한 줄에 하나씩 출력한다."
      ],
      "metadata": {
        "id": "JMYoKmIzAuKv"
      }
    },
    {
      "cell_type": "code",
      "source": [
        "cor = list()\n",
        "\n",
        "while 1:\n",
        "  m, n = map(int, input().split())\n",
        "  if m == 0 & n == 0:\n",
        "    break\n",
        "  if m > n:\n",
        "    cor.append(\"Yes\")\n",
        "  else:\n",
        "    cor.append(\"No\")\n",
        "\n",
        "for i in range(len(cor)):\n",
        "  print(cor[i])"
      ],
      "metadata": {
        "id": "1kmp8h3rAuYQ",
        "colab": {
          "base_uri": "https://localhost:8080/"
        },
        "outputId": "d16dd69a-fb7c-4009-d88d-9d61ac3818f7"
      },
      "execution_count": 24,
      "outputs": [
        {
          "output_type": "stream",
          "name": "stdout",
          "text": [
            "1 19\n",
            "4 4\n",
            "23 14\n",
            "0 0\n",
            "No\n",
            "No\n",
            "Yes\n"
          ]
        }
      ]
    },
    {
      "cell_type": "markdown",
      "source": [
        "## 5522: 카드 게임\n",
        "\n",
        "문제  \n",
        "JOI군은 카드 게임을 하고 있다. 이 카드 게임은 5회의 게임으로 진행되며, 그 총점으로 승부를 하는 게임이다.\n",
        "\n",
        "JOI군의 각 게임의 득점을 나타내는 정수가 주어졌을 때, JOI군의 총점을 구하는 프로그램을 작성하라.\n",
        "\n",
        "입력  \n",
        "표준 입력에서 다음과 같은 데이터를 읽어온다.\n",
        "\n",
        "i 번째 줄(1 ≤ i ≤ 5)에는 정수 Ai가 적혀있다. 이것은 i번째 게임에서의 JOI군의 점수를 나타낸다.  \n",
        "\n",
        "출력  \n",
        "표준 출력에 JOI군의 총점을 한 줄로 출력하라."
      ],
      "metadata": {
        "id": "24iVl-MmAund"
      }
    },
    {
      "cell_type": "code",
      "source": [
        "total = list()\n",
        "i = 0\n",
        "while 1:\n",
        "  n = int(input())\n",
        "  total.append(n)\n",
        "  i += 1\n",
        "  if i == 5:\n",
        "    break\n",
        "\n",
        "sum = 0\n",
        "for j in range(len(total)):\n",
        "  sum += total[j]\n",
        "\n",
        "print(sum)"
      ],
      "metadata": {
        "id": "B1yXmQL1Au1_",
        "colab": {
          "base_uri": "https://localhost:8080/"
        },
        "outputId": "3b19b36f-ef77-48a4-e2eb-48efd3cce827"
      },
      "execution_count": 9,
      "outputs": [
        {
          "output_type": "stream",
          "name": "stdout",
          "text": [
            "1\n",
            "2\n",
            "3\n",
            "4\n",
            "5\n",
            "15\n"
          ]
        }
      ]
    },
    {
      "cell_type": "markdown",
      "source": [
        "## 4999: 아!\n",
        "\n",
        "문제  \n",
        "재환이는 저스틴 비버 콘서트에서 소리를 너무 많이 질러서 인후염에 걸렸다.\n",
        "\n",
        "의사는 재환이에게 \"aaah\"를 말해보라고 시켰다. 안타깝게도 재환이는 의사가 원하는만큼 소리를 길게 낼 수 없는 경우가 있었다.\n",
        "\n",
        "각각의 의사는 재환이에게 특정한 길이의 \"aah\"를 말해보라고 요청한다. 어떤 의사는 \"aaaaaah\"를 요구하기도 하고, \"h\"만 요구하는 의사도 있다.\n",
        "\n",
        "모든 의사는 자신이 원하는 길이의 \"aah\"를 듣지 못하면 진단을 내릴 수 없다.\n",
        "\n",
        "따라서, 재환이는 집에서 자신이 얼마나 길게 \"aah\"를 낼 수 있는지 알아냈고, 자기가 소리낼 수 있는 길이의 \"aah\"를 요구하는 의사를 방문하려고 한다.\n",
        "\n",
        "재환이가 낼 수 있는 \"aah\"의 길이와 의사가 요구하는 길이가 주어진다. 이때, 그 병원에 가야하는지 말아야하는지를 알아내는 프로그램을 작성하시오.\n",
        "\n",
        "입력  \n",
        "입력은 두 줄로 이루어져 있다. 첫째 줄은 재환이가 가장 길게 낼 수 있는 \"aaah\"이다. 둘째 줄은 의사가 듣기를 원하는 \"aah\"이다. 두 문자열은 모두 a와 h로만 이루어져 있다. a의 개수는 0보다 크거나 같고, 999보다 작거나 같으며, 항상 h는 마지막에 하나만 주어진다.\n",
        "\n",
        "출력  \n",
        "재환이가 그 병원에 가야하면 \"go\"를, 아니면 \"no\"를 출력한다."
      ],
      "metadata": {
        "id": "FXQbw4CQAwwo"
      }
    },
    {
      "cell_type": "code",
      "source": [
        "ah = input()\n",
        "aah = input()\n",
        "\n",
        "if ah <= aah:\n",
        "  print(\"go\")\n",
        "else:\n",
        "  print(\"no\")"
      ],
      "metadata": {
        "id": "p53qek7eAxCN",
        "colab": {
          "base_uri": "https://localhost:8080/"
        },
        "outputId": "2da0e482-12ea-4e0d-fb39-72c95a6fa9cc"
      },
      "execution_count": 15,
      "outputs": [
        {
          "output_type": "stream",
          "name": "stdout",
          "text": [
            "aah\n",
            "aaaaah\n",
            "no\n"
          ]
        }
      ]
    },
    {
      "cell_type": "code",
      "source": [],
      "metadata": {
        "id": "SU5ymDu0qlXG"
      },
      "execution_count": null,
      "outputs": []
    }
  ]
}